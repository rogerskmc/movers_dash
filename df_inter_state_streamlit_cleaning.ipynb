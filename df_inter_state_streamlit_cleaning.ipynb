{
 "cells": [
  {
   "cell_type": "markdown",
   "id": "227f4782",
   "metadata": {},
   "source": [
    "# **Movers Dashboard: [Streamlit](https://streamlit.io/)**\n",
    "### *Kathleen created 5/30/25; last edited 6/18/25*\n",
    "\n",
    "## **Step 1: Structure the Data for Visualizing**"
   ]
  },
  {
   "cell_type": "code",
   "execution_count": 1,
   "id": "158802e2",
   "metadata": {},
   "outputs": [],
   "source": [
    "# Import packages\n",
    "import pandas as pd # for data manipulation\n",
    "import numpy as np # for recoding variables\n",
    "import streamlit as st # provides the web app framework\n",
    "import plotly.express as px # for choropleth maps"
   ]
  },
  {
   "cell_type": "code",
   "execution_count": 2,
   "id": "7fc2ec28",
   "metadata": {},
   "outputs": [],
   "source": [
    "# Load data prepared by Ahmed\n",
    "df_inter_state = pd.read_csv('df_inter_state.csv')\n",
    "\n",
    "df_inter_state[\"current_state_code\"] = df_inter_state[\"state_code\"] # Rename column for clarity"
   ]
  },
  {
   "cell_type": "code",
   "execution_count": 3,
   "id": "133458b8",
   "metadata": {},
   "outputs": [],
   "source": [
    "# Keep just the columns needed for visualization\n",
    "df_inter_state = df_inter_state[[\"current_state\", \"previous_state\", \"sex\", \"age_group\", \"education\", \"marital_status\", \"person_weight\"]]\n",
    "\n",
    "df_inter_state = df_inter_state.dropna() # Drop rows with NaN values (there shouldn't be any, but just in case...)"
   ]
  },
  {
   "cell_type": "code",
   "execution_count": 4,
   "id": "89c22183",
   "metadata": {},
   "outputs": [],
   "source": [
    "# Recode education with fewer categories\n",
    "df_inter_state[\"education\"] = np.where((df_inter_state[\"education\"] == \"No schooling\") | (df_inter_state[\"education\"] == \"Elementary/Middle school\") | (df_inter_state[\"education\"] == \"Some high school\"), \"Less than High School\",\n",
    "                                    np.where(df_inter_state[\"education\"] == \"High school graduate\", \"High School Grad\",\n",
    "                                    np.where((df_inter_state[\"education\"] == \"Some college\") | (df_inter_state[\"education\"] == \"Associate's degree\"), \"Some College\",\n",
    "                                    np.where(df_inter_state[\"education\"] == \"Bachelor's degree\", \"Bachelor's Degree\", \"Graduate Degree\"))))\n",
    "\n",
    "# Recode marital_status with fewer categories\n",
    "df_inter_state[\"marital_status\"] = np.where((df_inter_state[\"marital_status\"] == \"Divorced\") | (df_inter_state[\"marital_status\"] == \"Separated\"), \"Divorced/Separated\", df_inter_state[\"marital_status\"])\n",
    "\n",
    "# Create ordered categories\n",
    "age_order = [\"0-17\", \"18-24\", \"25-34\", \"35-44\", \"45-54\", \"55-64\", \"65+\"]\n",
    "df_inter_state[\"age_group\"] = pd.Categorical(df_inter_state[\"age_group\"], categories=age_order, ordered=True)\n",
    "\n",
    "education_order = [\"Less than High School\", \"High School Grad\", \"Some College\", \"Bachelor's Degree\", \"Graduate Degree\"]\n",
    "df_inter_state[\"education\"] = pd.Categorical(df_inter_state[\"education\"], categories=education_order, ordered=True)\n",
    "\n",
    "mar_order = [\"Never Married\", \"Married\", \"Divorced/Separated\", \"Widowed\"]\n",
    "df_inter_state[\"marital_status\"] = pd.Categorical(df_inter_state[\"marital_status\"], categories=mar_order, ordered=True)"
   ]
  },
  {
   "cell_type": "markdown",
   "id": "042c8e1d",
   "metadata": {},
   "source": [
    "## **Step 1A: Create an INBOUND movers dataset**"
   ]
  },
  {
   "cell_type": "code",
   "execution_count": 5,
   "id": "1b886026",
   "metadata": {},
   "outputs": [
    {
     "data": {
      "text/html": [
       "<div>\n",
       "<style scoped>\n",
       "    .dataframe tbody tr th:only-of-type {\n",
       "        vertical-align: middle;\n",
       "    }\n",
       "\n",
       "    .dataframe tbody tr th {\n",
       "        vertical-align: top;\n",
       "    }\n",
       "\n",
       "    .dataframe thead th {\n",
       "        text-align: right;\n",
       "    }\n",
       "</style>\n",
       "<table border=\"1\" class=\"dataframe\">\n",
       "  <thead>\n",
       "    <tr style=\"text-align: right;\">\n",
       "      <th></th>\n",
       "      <th>current_state</th>\n",
       "      <th>sex</th>\n",
       "      <th>age_group</th>\n",
       "      <th>education</th>\n",
       "      <th>marital_status</th>\n",
       "      <th>count</th>\n",
       "    </tr>\n",
       "  </thead>\n",
       "  <tbody>\n",
       "    <tr>\n",
       "      <th>0</th>\n",
       "      <td>Alabama</td>\n",
       "      <td>Female</td>\n",
       "      <td>0-17</td>\n",
       "      <td>Less than High School</td>\n",
       "      <td>Never Married</td>\n",
       "      <td>9920</td>\n",
       "    </tr>\n",
       "    <tr>\n",
       "      <th>1</th>\n",
       "      <td>Alabama</td>\n",
       "      <td>Female</td>\n",
       "      <td>0-17</td>\n",
       "      <td>Less than High School</td>\n",
       "      <td>Married</td>\n",
       "      <td>0</td>\n",
       "    </tr>\n",
       "    <tr>\n",
       "      <th>2</th>\n",
       "      <td>Alabama</td>\n",
       "      <td>Female</td>\n",
       "      <td>0-17</td>\n",
       "      <td>Less than High School</td>\n",
       "      <td>Divorced/Separated</td>\n",
       "      <td>0</td>\n",
       "    </tr>\n",
       "    <tr>\n",
       "      <th>3</th>\n",
       "      <td>Alabama</td>\n",
       "      <td>Female</td>\n",
       "      <td>0-17</td>\n",
       "      <td>Less than High School</td>\n",
       "      <td>Widowed</td>\n",
       "      <td>0</td>\n",
       "    </tr>\n",
       "    <tr>\n",
       "      <th>4</th>\n",
       "      <td>Alabama</td>\n",
       "      <td>Female</td>\n",
       "      <td>0-17</td>\n",
       "      <td>High School Grad</td>\n",
       "      <td>Never Married</td>\n",
       "      <td>0</td>\n",
       "    </tr>\n",
       "    <tr>\n",
       "      <th>...</th>\n",
       "      <td>...</td>\n",
       "      <td>...</td>\n",
       "      <td>...</td>\n",
       "      <td>...</td>\n",
       "      <td>...</td>\n",
       "      <td>...</td>\n",
       "    </tr>\n",
       "    <tr>\n",
       "      <th>14275</th>\n",
       "      <td>Wyoming</td>\n",
       "      <td>Male</td>\n",
       "      <td>65+</td>\n",
       "      <td>Bachelor's Degree</td>\n",
       "      <td>Widowed</td>\n",
       "      <td>0</td>\n",
       "    </tr>\n",
       "    <tr>\n",
       "      <th>14276</th>\n",
       "      <td>Wyoming</td>\n",
       "      <td>Male</td>\n",
       "      <td>65+</td>\n",
       "      <td>Graduate Degree</td>\n",
       "      <td>Never Married</td>\n",
       "      <td>0</td>\n",
       "    </tr>\n",
       "    <tr>\n",
       "      <th>14277</th>\n",
       "      <td>Wyoming</td>\n",
       "      <td>Male</td>\n",
       "      <td>65+</td>\n",
       "      <td>Graduate Degree</td>\n",
       "      <td>Married</td>\n",
       "      <td>0</td>\n",
       "    </tr>\n",
       "    <tr>\n",
       "      <th>14278</th>\n",
       "      <td>Wyoming</td>\n",
       "      <td>Male</td>\n",
       "      <td>65+</td>\n",
       "      <td>Graduate Degree</td>\n",
       "      <td>Divorced/Separated</td>\n",
       "      <td>77</td>\n",
       "    </tr>\n",
       "    <tr>\n",
       "      <th>14279</th>\n",
       "      <td>Wyoming</td>\n",
       "      <td>Male</td>\n",
       "      <td>65+</td>\n",
       "      <td>Graduate Degree</td>\n",
       "      <td>Widowed</td>\n",
       "      <td>0</td>\n",
       "    </tr>\n",
       "  </tbody>\n",
       "</table>\n",
       "<p>14280 rows × 6 columns</p>\n",
       "</div>"
      ],
      "text/plain": [
       "      current_state     sex age_group              education  \\\n",
       "0           Alabama  Female      0-17  Less than High School   \n",
       "1           Alabama  Female      0-17  Less than High School   \n",
       "2           Alabama  Female      0-17  Less than High School   \n",
       "3           Alabama  Female      0-17  Less than High School   \n",
       "4           Alabama  Female      0-17       High School Grad   \n",
       "...             ...     ...       ...                    ...   \n",
       "14275       Wyoming    Male       65+      Bachelor's Degree   \n",
       "14276       Wyoming    Male       65+        Graduate Degree   \n",
       "14277       Wyoming    Male       65+        Graduate Degree   \n",
       "14278       Wyoming    Male       65+        Graduate Degree   \n",
       "14279       Wyoming    Male       65+        Graduate Degree   \n",
       "\n",
       "           marital_status  count  \n",
       "0           Never Married   9920  \n",
       "1                 Married      0  \n",
       "2      Divorced/Separated      0  \n",
       "3                 Widowed      0  \n",
       "4           Never Married      0  \n",
       "...                   ...    ...  \n",
       "14275             Widowed      0  \n",
       "14276       Never Married      0  \n",
       "14277             Married      0  \n",
       "14278  Divorced/Separated     77  \n",
       "14279             Widowed      0  \n",
       "\n",
       "[14280 rows x 6 columns]"
      ]
     },
     "execution_count": 5,
     "metadata": {},
     "output_type": "execute_result"
    }
   ],
   "source": [
    "# Get counts grouped by relevant columns for INBOUND migration\n",
    "inbound = df_inter_state.groupby([\"current_state\", \"sex\", \"age_group\", \"education\", \"marital_status\"])[\"person_weight\"].sum().reset_index(name=\"count\")\n",
    "inbound"
   ]
  },
  {
   "cell_type": "code",
   "execution_count": 6,
   "id": "1b29eb5e",
   "metadata": {},
   "outputs": [],
   "source": [
    "# Create \"all\" counts for each variable \n",
    "# Make sure to include all combinations of the variables! (there is probably a more efficient way to do this, haha)\n",
    "\n",
    "inbound_sex_all = df_inter_state.groupby([\"current_state\",\"age_group\", \"education\", \"marital_status\"])[\"person_weight\"].sum().reset_index(name=\"count\")\n",
    "inbound_sex_all[\"sex\"] = \"All\"\n",
    "\n",
    "inbound_age_all = df_inter_state.groupby([\"current_state\",\"sex\", \"education\", \"marital_status\"])[\"person_weight\"].sum().reset_index(name=\"count\")\n",
    "inbound_age_all[\"age_group\"] = \"All\"\n",
    "\n",
    "inbound_ed_all = df_inter_state.groupby([\"current_state\",\"sex\", \"age_group\", \"marital_status\"])[\"person_weight\"].sum().reset_index(name=\"count\")\n",
    "inbound_ed_all[\"education\"] = \"All\"\n",
    "\n",
    "inbound_mar_all = df_inter_state.groupby([\"current_state\",\"sex\", \"age_group\", \"education\"])[\"person_weight\"].sum().reset_index(name=\"count\")\n",
    "inbound_mar_all[\"marital_status\"] = \"All\"\n",
    "\n",
    "inbound_sa_all = df_inter_state.groupby([\"current_state\", \"education\", \"marital_status\"])[\"person_weight\"].sum().reset_index(name=\"count\")\n",
    "inbound_sa_all[\"sex\"] = \"All\"\n",
    "inbound_sa_all[\"age_group\"] = \"All\"\n",
    "\n",
    "inbound_se_all = df_inter_state.groupby([\"current_state\", \"age_group\", \"marital_status\"])[\"person_weight\"].sum().reset_index(name=\"count\")\n",
    "inbound_se_all[\"sex\"] = \"All\"\n",
    "inbound_se_all[\"education\"] = \"All\"\n",
    "\n",
    "inbound_sm_all = df_inter_state.groupby([\"current_state\", \"age_group\", \"education\"])[\"person_weight\"].sum().reset_index(name=\"count\")\n",
    "inbound_sm_all[\"sex\"] = \"All\"\n",
    "inbound_sm_all[\"marital_status\"] = \"All\"\n",
    "\n",
    "inbound_ae_all = df_inter_state.groupby([\"current_state\", \"sex\", \"marital_status\"])[\"person_weight\"].sum().reset_index(name=\"count\")\n",
    "inbound_ae_all[\"age_group\"] = \"All\"\n",
    "inbound_ae_all[\"education\"] = \"All\"\n",
    "\n",
    "inbound_am_all = df_inter_state.groupby([\"current_state\", \"sex\", \"education\"])[\"person_weight\"].sum().reset_index(name=\"count\")\n",
    "inbound_am_all[\"age_group\"] = \"All\"\n",
    "inbound_am_all[\"marital_status\"] = \"All\"\n",
    "\n",
    "inbound_em_all = df_inter_state.groupby([\"current_state\", \"sex\", \"age_group\"])[\"person_weight\"].sum().reset_index(name=\"count\")\n",
    "inbound_em_all[\"education\"] = \"All\"\n",
    "inbound_em_all[\"marital_status\"] = \"All\"\n",
    "\n",
    "inbound_sae_all = df_inter_state.groupby([\"current_state\", \"marital_status\"])[\"person_weight\"].sum().reset_index(name=\"count\")\n",
    "inbound_sae_all[\"sex\"] = \"All\"\n",
    "inbound_sae_all[\"age_group\"] = \"All\"\n",
    "inbound_sae_all[\"education\"] = \"All\"\n",
    "\n",
    "inbound_sam_all = df_inter_state.groupby([\"current_state\", \"education\"])[\"person_weight\"].sum().reset_index(name=\"count\")\n",
    "inbound_sam_all[\"sex\"] = \"All\"\n",
    "inbound_sam_all[\"age_group\"] = \"All\"\n",
    "inbound_sam_all[\"marital_status\"] = \"All\"\n",
    "\n",
    "inbound_sem_all = df_inter_state.groupby([\"current_state\", \"age_group\"])[\"person_weight\"].sum().reset_index(name=\"count\")\n",
    "inbound_sem_all[\"sex\"] = \"All\"\n",
    "inbound_sem_all[\"education\"] = \"All\"\n",
    "inbound_sem_all[\"marital_status\"] = \"All\"\n",
    "\n",
    "inbound_aem_all = df_inter_state.groupby([\"current_state\", \"sex\"])[\"person_weight\"].sum().reset_index(name=\"count\")\n",
    "inbound_aem_all[\"age_group\"] = \"All\"\n",
    "inbound_aem_all[\"education\"] = \"All\"\n",
    "inbound_aem_all[\"marital_status\"] = \"All\"\n",
    "\n",
    "inbound_saem_all = df_inter_state.groupby([\"current_state\"])[\"person_weight\"].sum().reset_index(name=\"count\")\n",
    "inbound_saem_all[\"sex\"] = \"All\"\n",
    "inbound_saem_all[\"age_group\"] = \"All\"\n",
    "inbound_saem_all[\"education\"] = \"All\"\n",
    "inbound_saem_all[\"marital_status\"] = \"All\"\n",
    "\n",
    "inbound = pd.concat([inbound_saem_all, inbound_aem_all, inbound_sem_all, inbound_sam_all, inbound_sae_all, inbound_em_all, inbound_ae_all, inbound_sm_all, inbound_se_all,\n",
    "                      inbound_sa_all, inbound_mar_all, inbound_ed_all, inbound_age_all, inbound_sex_all, inbound])"
   ]
  },
  {
   "cell_type": "code",
   "execution_count": 7,
   "id": "990329e6",
   "metadata": {},
   "outputs": [
    {
     "data": {
      "text/html": [
       "<div>\n",
       "<style scoped>\n",
       "    .dataframe tbody tr th:only-of-type {\n",
       "        vertical-align: middle;\n",
       "    }\n",
       "\n",
       "    .dataframe tbody tr th {\n",
       "        vertical-align: top;\n",
       "    }\n",
       "\n",
       "    .dataframe thead th {\n",
       "        text-align: right;\n",
       "    }\n",
       "</style>\n",
       "<table border=\"1\" class=\"dataframe\">\n",
       "  <thead>\n",
       "    <tr style=\"text-align: right;\">\n",
       "      <th></th>\n",
       "      <th>current_state</th>\n",
       "      <th>count</th>\n",
       "      <th>sex</th>\n",
       "      <th>age_group</th>\n",
       "      <th>education</th>\n",
       "      <th>marital_status</th>\n",
       "      <th>current_state_code</th>\n",
       "      <th>current_fips</th>\n",
       "    </tr>\n",
       "  </thead>\n",
       "  <tbody>\n",
       "    <tr>\n",
       "      <th>0</th>\n",
       "      <td>Alabama</td>\n",
       "      <td>120307</td>\n",
       "      <td>All</td>\n",
       "      <td>All</td>\n",
       "      <td>All</td>\n",
       "      <td>All</td>\n",
       "      <td>AL</td>\n",
       "      <td>1</td>\n",
       "    </tr>\n",
       "    <tr>\n",
       "      <th>1</th>\n",
       "      <td>Alaska</td>\n",
       "      <td>35633</td>\n",
       "      <td>All</td>\n",
       "      <td>All</td>\n",
       "      <td>All</td>\n",
       "      <td>All</td>\n",
       "      <td>AK</td>\n",
       "      <td>2</td>\n",
       "    </tr>\n",
       "    <tr>\n",
       "      <th>2</th>\n",
       "      <td>Arizona</td>\n",
       "      <td>250726</td>\n",
       "      <td>All</td>\n",
       "      <td>All</td>\n",
       "      <td>All</td>\n",
       "      <td>All</td>\n",
       "      <td>AZ</td>\n",
       "      <td>4</td>\n",
       "    </tr>\n",
       "    <tr>\n",
       "      <th>3</th>\n",
       "      <td>Arkansas</td>\n",
       "      <td>75745</td>\n",
       "      <td>All</td>\n",
       "      <td>All</td>\n",
       "      <td>All</td>\n",
       "      <td>All</td>\n",
       "      <td>AR</td>\n",
       "      <td>5</td>\n",
       "    </tr>\n",
       "    <tr>\n",
       "      <th>4</th>\n",
       "      <td>California</td>\n",
       "      <td>425194</td>\n",
       "      <td>All</td>\n",
       "      <td>All</td>\n",
       "      <td>All</td>\n",
       "      <td>All</td>\n",
       "      <td>CA</td>\n",
       "      <td>6</td>\n",
       "    </tr>\n",
       "    <tr>\n",
       "      <th>...</th>\n",
       "      <td>...</td>\n",
       "      <td>...</td>\n",
       "      <td>...</td>\n",
       "      <td>...</td>\n",
       "      <td>...</td>\n",
       "      <td>...</td>\n",
       "      <td>...</td>\n",
       "      <td>...</td>\n",
       "    </tr>\n",
       "    <tr>\n",
       "      <th>36205</th>\n",
       "      <td>Wyoming</td>\n",
       "      <td>0</td>\n",
       "      <td>Male</td>\n",
       "      <td>65+</td>\n",
       "      <td>Bachelor's Degree</td>\n",
       "      <td>Widowed</td>\n",
       "      <td>WY</td>\n",
       "      <td>56</td>\n",
       "    </tr>\n",
       "    <tr>\n",
       "      <th>36206</th>\n",
       "      <td>Wyoming</td>\n",
       "      <td>0</td>\n",
       "      <td>Male</td>\n",
       "      <td>65+</td>\n",
       "      <td>Graduate Degree</td>\n",
       "      <td>Never Married</td>\n",
       "      <td>WY</td>\n",
       "      <td>56</td>\n",
       "    </tr>\n",
       "    <tr>\n",
       "      <th>36207</th>\n",
       "      <td>Wyoming</td>\n",
       "      <td>0</td>\n",
       "      <td>Male</td>\n",
       "      <td>65+</td>\n",
       "      <td>Graduate Degree</td>\n",
       "      <td>Married</td>\n",
       "      <td>WY</td>\n",
       "      <td>56</td>\n",
       "    </tr>\n",
       "    <tr>\n",
       "      <th>36208</th>\n",
       "      <td>Wyoming</td>\n",
       "      <td>77</td>\n",
       "      <td>Male</td>\n",
       "      <td>65+</td>\n",
       "      <td>Graduate Degree</td>\n",
       "      <td>Divorced/Separated</td>\n",
       "      <td>WY</td>\n",
       "      <td>56</td>\n",
       "    </tr>\n",
       "    <tr>\n",
       "      <th>36209</th>\n",
       "      <td>Wyoming</td>\n",
       "      <td>0</td>\n",
       "      <td>Male</td>\n",
       "      <td>65+</td>\n",
       "      <td>Graduate Degree</td>\n",
       "      <td>Widowed</td>\n",
       "      <td>WY</td>\n",
       "      <td>56</td>\n",
       "    </tr>\n",
       "  </tbody>\n",
       "</table>\n",
       "<p>36210 rows × 8 columns</p>\n",
       "</div>"
      ],
      "text/plain": [
       "      current_state   count   sex age_group          education  \\\n",
       "0           Alabama  120307   All       All                All   \n",
       "1            Alaska   35633   All       All                All   \n",
       "2           Arizona  250726   All       All                All   \n",
       "3          Arkansas   75745   All       All                All   \n",
       "4        California  425194   All       All                All   \n",
       "...             ...     ...   ...       ...                ...   \n",
       "36205       Wyoming       0  Male       65+  Bachelor's Degree   \n",
       "36206       Wyoming       0  Male       65+    Graduate Degree   \n",
       "36207       Wyoming       0  Male       65+    Graduate Degree   \n",
       "36208       Wyoming      77  Male       65+    Graduate Degree   \n",
       "36209       Wyoming       0  Male       65+    Graduate Degree   \n",
       "\n",
       "           marital_status current_state_code  current_fips  \n",
       "0                     All                 AL             1  \n",
       "1                     All                 AK             2  \n",
       "2                     All                 AZ             4  \n",
       "3                     All                 AR             5  \n",
       "4                     All                 CA             6  \n",
       "...                   ...                ...           ...  \n",
       "36205             Widowed                 WY            56  \n",
       "36206       Never Married                 WY            56  \n",
       "36207             Married                 WY            56  \n",
       "36208  Divorced/Separated                 WY            56  \n",
       "36209             Widowed                 WY            56  \n",
       "\n",
       "[36210 rows x 8 columns]"
      ]
     },
     "execution_count": 7,
     "metadata": {},
     "output_type": "execute_result"
    }
   ],
   "source": [
    "# Merge in state abbreviations needed to create choropleth maps\n",
    "url =\"https://www2.census.gov/geo/docs/reference/state.txt\"\n",
    "states = pd.read_csv(url, sep='|')\n",
    "\n",
    "states[\"current_state\"] = states[\"STATE_NAME\"] # Rename column to merge on\n",
    "states[\"current_fips\"] = states[\"STATE\"] # Rename column for clarity\n",
    "states[\"current_state_code\"] = states[\"STUSAB\"] # Rename column for clarity\n",
    "\n",
    "inbound_states = states[[\"current_state\", \"current_state_code\", \"current_fips\"]] # Keep only the columns needed\n",
    "\n",
    "inbound = pd.merge(inbound,inbound_states,on=\"current_state\",how=\"left\") # execute the merge\n",
    "\n",
    "inbound = inbound.dropna() # Drop rows with NaN values, just in case there are any\n",
    "\n",
    "inbound\n"
   ]
  },
  {
   "cell_type": "code",
   "execution_count": 8,
   "id": "321f41c5",
   "metadata": {},
   "outputs": [],
   "source": [
    "# Save to CSV\n",
    "inbound.to_csv('inbound.csv', index=False)"
   ]
  },
  {
   "cell_type": "code",
   "execution_count": 9,
   "id": "d2d469f9",
   "metadata": {},
   "outputs": [
    {
     "data": {
      "application/vnd.plotly.v1+json": {
       "config": {
        "plotlyServerURL": "https://plot.ly"
       },
       "data": [
        {
         "coloraxis": "coloraxis",
         "geo": "geo",
         "hovertemplate": "current_state_code=%{location}<br>count=%{z}<extra></extra>",
         "locationmode": "USA-states",
         "locations": [
          "AL",
          "AK",
          "AZ",
          "AR",
          "CA",
          "CO",
          "CT",
          "DE",
          "DC",
          "FL",
          "GA",
          "HI",
          "ID",
          "IL",
          "IN",
          "IA",
          "KS",
          "KY",
          "LA",
          "ME",
          "MD",
          "MA",
          "MI",
          "MN",
          "MS",
          "MO",
          "MT",
          "NE",
          "NV",
          "NH",
          "NJ",
          "NM",
          "NY",
          "NC",
          "ND",
          "OH",
          "OK",
          "OR",
          "PA",
          "RI",
          "SC",
          "SD",
          "TN",
          "TX",
          "UT",
          "VT",
          "VA",
          "WA",
          "WV",
          "WI",
          "WY"
         ],
         "name": "",
         "type": "choropleth",
         "z": [
          9920,
          4083,
          15920,
          7238,
          25610,
          17943,
          6244,
          2975,
          2364,
          49593,
          26090,
          4010,
          8063,
          14558,
          10864,
          4466,
          6843,
          9216,
          4956,
          2451,
          14165,
          8934,
          7917,
          6509,
          5456,
          10320,
          2128,
          6136,
          10829,
          1271,
          12308,
          6176,
          13734,
          30472,
          986,
          14509,
          10899,
          7315,
          14296,
          584,
          18436,
          2475,
          16850,
          61065,
          4713,
          871,
          25332,
          14712,
          1658,
          6507,
          958
         ]
        }
       ],
       "layout": {
        "coloraxis": {
         "colorbar": {
          "title": {
           "text": "count"
          }
         },
         "colorscale": [
          [
           0,
           "rgb(255,245,240)"
          ],
          [
           0.125,
           "rgb(254,224,210)"
          ],
          [
           0.25,
           "rgb(252,187,161)"
          ],
          [
           0.375,
           "rgb(252,146,114)"
          ],
          [
           0.5,
           "rgb(251,106,74)"
          ],
          [
           0.625,
           "rgb(239,59,44)"
          ],
          [
           0.75,
           "rgb(203,24,29)"
          ],
          [
           0.875,
           "rgb(165,15,21)"
          ],
          [
           1,
           "rgb(103,0,13)"
          ]
         ]
        },
        "geo": {
         "center": {},
         "domain": {
          "x": [
           0,
           1
          ],
          "y": [
           0,
           1
          ]
         },
         "scope": "usa"
        },
        "legend": {
         "tracegroupgap": 0
        },
        "margin": {
         "t": 60
        },
        "template": {
         "data": {
          "candlestick": [
           {
            "decreasing": {
             "line": {
              "color": "#000033"
             }
            },
            "increasing": {
             "line": {
              "color": "#000032"
             }
            },
            "type": "candlestick"
           }
          ],
          "contour": [
           {
            "colorscale": [
             [
              0,
              "#000011"
             ],
             [
              0.1111111111111111,
              "#000012"
             ],
             [
              0.2222222222222222,
              "#000013"
             ],
             [
              0.3333333333333333,
              "#000014"
             ],
             [
              0.4444444444444444,
              "#000015"
             ],
             [
              0.5555555555555556,
              "#000016"
             ],
             [
              0.6666666666666666,
              "#000017"
             ],
             [
              0.7777777777777778,
              "#000018"
             ],
             [
              0.8888888888888888,
              "#000019"
             ],
             [
              1,
              "#000020"
             ]
            ],
            "type": "contour"
           }
          ],
          "contourcarpet": [
           {
            "colorscale": [
             [
              0,
              "#000011"
             ],
             [
              0.1111111111111111,
              "#000012"
             ],
             [
              0.2222222222222222,
              "#000013"
             ],
             [
              0.3333333333333333,
              "#000014"
             ],
             [
              0.4444444444444444,
              "#000015"
             ],
             [
              0.5555555555555556,
              "#000016"
             ],
             [
              0.6666666666666666,
              "#000017"
             ],
             [
              0.7777777777777778,
              "#000018"
             ],
             [
              0.8888888888888888,
              "#000019"
             ],
             [
              1,
              "#000020"
             ]
            ],
            "type": "contourcarpet"
           }
          ],
          "heatmap": [
           {
            "colorscale": [
             [
              0,
              "#000011"
             ],
             [
              0.1111111111111111,
              "#000012"
             ],
             [
              0.2222222222222222,
              "#000013"
             ],
             [
              0.3333333333333333,
              "#000014"
             ],
             [
              0.4444444444444444,
              "#000015"
             ],
             [
              0.5555555555555556,
              "#000016"
             ],
             [
              0.6666666666666666,
              "#000017"
             ],
             [
              0.7777777777777778,
              "#000018"
             ],
             [
              0.8888888888888888,
              "#000019"
             ],
             [
              1,
              "#000020"
             ]
            ],
            "type": "heatmap"
           }
          ],
          "histogram2d": [
           {
            "colorscale": [
             [
              0,
              "#000011"
             ],
             [
              0.1111111111111111,
              "#000012"
             ],
             [
              0.2222222222222222,
              "#000013"
             ],
             [
              0.3333333333333333,
              "#000014"
             ],
             [
              0.4444444444444444,
              "#000015"
             ],
             [
              0.5555555555555556,
              "#000016"
             ],
             [
              0.6666666666666666,
              "#000017"
             ],
             [
              0.7777777777777778,
              "#000018"
             ],
             [
              0.8888888888888888,
              "#000019"
             ],
             [
              1,
              "#000020"
             ]
            ],
            "type": "histogram2d"
           }
          ],
          "icicle": [
           {
            "textfont": {
             "color": "white"
            },
            "type": "icicle"
           }
          ],
          "sankey": [
           {
            "textfont": {
             "color": "#000036"
            },
            "type": "sankey"
           }
          ],
          "scatter": [
           {
            "marker": {
             "line": {
              "width": 0
             }
            },
            "type": "scatter"
           }
          ],
          "table": [
           {
            "cells": {
             "fill": {
              "color": "#000038"
             },
             "font": {
              "color": "#000037"
             },
             "line": {
              "color": "#000039"
             }
            },
            "header": {
             "fill": {
              "color": "#000040"
             },
             "font": {
              "color": "#000036"
             },
             "line": {
              "color": "#000039"
             }
            },
            "type": "table"
           }
          ],
          "waterfall": [
           {
            "connector": {
             "line": {
              "color": "#000036",
              "width": 2
             }
            },
            "decreasing": {
             "marker": {
              "color": "#000033"
             }
            },
            "increasing": {
             "marker": {
              "color": "#000032"
             }
            },
            "totals": {
             "marker": {
              "color": "#000034"
             }
            },
            "type": "waterfall"
           }
          ]
         },
         "layout": {
          "coloraxis": {
           "colorscale": [
            [
             0,
             "#000011"
            ],
            [
             0.1111111111111111,
             "#000012"
            ],
            [
             0.2222222222222222,
             "#000013"
            ],
            [
             0.3333333333333333,
             "#000014"
            ],
            [
             0.4444444444444444,
             "#000015"
            ],
            [
             0.5555555555555556,
             "#000016"
            ],
            [
             0.6666666666666666,
             "#000017"
            ],
            [
             0.7777777777777778,
             "#000018"
            ],
            [
             0.8888888888888888,
             "#000019"
            ],
            [
             1,
             "#000020"
            ]
           ]
          },
          "colorscale": {
           "diverging": [
            [
             0,
             "#000021"
            ],
            [
             0.1,
             "#000022"
            ],
            [
             0.2,
             "#000023"
            ],
            [
             0.3,
             "#000024"
            ],
            [
             0.4,
             "#000025"
            ],
            [
             0.5,
             "#000026"
            ],
            [
             0.6,
             "#000027"
            ],
            [
             0.7,
             "#000028"
            ],
            [
             0.8,
             "#000029"
            ],
            [
             0.9,
             "#000030"
            ],
            [
             1,
             "#000031"
            ]
           ],
           "sequential": [
            [
             0,
             "#000011"
            ],
            [
             0.1111111111111111,
             "#000012"
            ],
            [
             0.2222222222222222,
             "#000013"
            ],
            [
             0.3333333333333333,
             "#000014"
            ],
            [
             0.4444444444444444,
             "#000015"
            ],
            [
             0.5555555555555556,
             "#000016"
            ],
            [
             0.6666666666666666,
             "#000017"
            ],
            [
             0.7777777777777778,
             "#000018"
            ],
            [
             0.8888888888888888,
             "#000019"
            ],
            [
             1,
             "#000020"
            ]
           ],
           "sequentialminus": [
            [
             0,
             "#000011"
            ],
            [
             0.1111111111111111,
             "#000012"
            ],
            [
             0.2222222222222222,
             "#000013"
            ],
            [
             0.3333333333333333,
             "#000014"
            ],
            [
             0.4444444444444444,
             "#000015"
            ],
            [
             0.5555555555555556,
             "#000016"
            ],
            [
             0.6666666666666666,
             "#000017"
            ],
            [
             0.7777777777777778,
             "#000018"
            ],
            [
             0.8888888888888888,
             "#000019"
            ],
            [
             1,
             "#000020"
            ]
           ]
          },
          "colorway": [
           "#000001",
           "#000002",
           "#000003",
           "#000004",
           "#000005",
           "#000006",
           "#000007",
           "#000008",
           "#000009",
           "#000010"
          ]
         }
        }
       }
      }
     },
     "metadata": {},
     "output_type": "display_data"
    }
   ],
   "source": [
    "# Test the choropleth map code with a specific set of filters\n",
    "filtered_df = inbound[(inbound[\"sex\"] == \"Female\") & (inbound[\"age_group\"] == \"0-17\") & (inbound[\"education\"] == \"Less than High School\") & (inbound[\"marital_status\"] == \"Never Married\")]\n",
    "\n",
    "choropleth = px.choropleth(filtered_df, locations=\"current_state_code\", color=\"count\", locationmode=\"USA-states\",color_continuous_scale=\"reds\",\n",
    "                               scope=\"usa\",\n",
    "                              )\n",
    "\n",
    "choropleth.show()"
   ]
  },
  {
   "cell_type": "markdown",
   "id": "288623b2",
   "metadata": {},
   "source": [
    "## **Step 1B: Create an OUTBOUND movers dataset**"
   ]
  },
  {
   "cell_type": "code",
   "execution_count": 10,
   "id": "138a4e4c",
   "metadata": {},
   "outputs": [],
   "source": [
    "# Get counts grouped by relevant columns for OUTBOUND migration\n",
    "outbound = df_inter_state.groupby([\"previous_state\", \"sex\", \"age_group\", \"education\", \"marital_status\"])[\"person_weight\"].sum().reset_index(name=\"count\")"
   ]
  },
  {
   "cell_type": "code",
   "execution_count": 11,
   "id": "573f3620",
   "metadata": {},
   "outputs": [],
   "source": [
    "# Create \"all\" counts for each variable \n",
    "# Make sure to include all combinations of the variables! (there is probably a more efficient way to do this, haha)\n",
    "\n",
    "outbound_sex_all = df_inter_state.groupby([\"previous_state\",\"age_group\", \"education\", \"marital_status\"])[\"person_weight\"].sum().reset_index(name=\"count\")\n",
    "outbound_sex_all[\"sex\"] = \"All\"\n",
    "\n",
    "outbound_age_all = df_inter_state.groupby([\"previous_state\",\"sex\", \"education\", \"marital_status\"])[\"person_weight\"].sum().reset_index(name=\"count\")\n",
    "outbound_age_all[\"age_group\"] = \"All\"\n",
    "\n",
    "outbound_ed_all = df_inter_state.groupby([\"previous_state\",\"sex\", \"age_group\", \"marital_status\"])[\"person_weight\"].sum().reset_index(name=\"count\")\n",
    "outbound_ed_all[\"education\"] = \"All\"\n",
    "\n",
    "outbound_mar_all = df_inter_state.groupby([\"previous_state\",\"sex\", \"age_group\", \"education\"])[\"person_weight\"].sum().reset_index(name=\"count\")\n",
    "outbound_mar_all[\"marital_status\"] = \"All\"\n",
    "\n",
    "outbound_sa_all = df_inter_state.groupby([\"previous_state\", \"education\", \"marital_status\"])[\"person_weight\"].sum().reset_index(name=\"count\")\n",
    "outbound_sa_all[\"sex\"] = \"All\"\n",
    "outbound_sa_all[\"age_group\"] = \"All\"\n",
    "\n",
    "outbound_se_all = df_inter_state.groupby([\"previous_state\", \"age_group\", \"marital_status\"])[\"person_weight\"].sum().reset_index(name=\"count\")\n",
    "outbound_se_all[\"sex\"] = \"All\"\n",
    "outbound_se_all[\"education\"] = \"All\"\n",
    "\n",
    "outbound_sm_all = df_inter_state.groupby([\"previous_state\", \"age_group\", \"education\"])[\"person_weight\"].sum().reset_index(name=\"count\")\n",
    "outbound_sm_all[\"sex\"] = \"All\"\n",
    "outbound_sm_all[\"marital_status\"] = \"All\"\n",
    "\n",
    "outbound_ae_all = df_inter_state.groupby([\"previous_state\", \"sex\", \"marital_status\"])[\"person_weight\"].sum().reset_index(name=\"count\")\n",
    "outbound_ae_all[\"age_group\"] = \"All\"\n",
    "outbound_ae_all[\"education\"] = \"All\"\n",
    "\n",
    "outbound_am_all = df_inter_state.groupby([\"previous_state\", \"sex\", \"education\"])[\"person_weight\"].sum().reset_index(name=\"count\")\n",
    "outbound_am_all[\"age_group\"] = \"All\"\n",
    "outbound_am_all[\"marital_status\"] = \"All\"\n",
    "\n",
    "outbound_em_all = df_inter_state.groupby([\"previous_state\", \"sex\", \"age_group\"])[\"person_weight\"].sum().reset_index(name=\"count\")\n",
    "outbound_em_all[\"education\"] = \"All\"\n",
    "outbound_em_all[\"marital_status\"] = \"All\"\n",
    "\n",
    "outbound_sae_all = df_inter_state.groupby([\"previous_state\", \"marital_status\"])[\"person_weight\"].sum().reset_index(name=\"count\")\n",
    "outbound_sae_all[\"sex\"] = \"All\"\n",
    "outbound_sae_all[\"age_group\"] = \"All\"\n",
    "outbound_sae_all[\"education\"] = \"All\"\n",
    "\n",
    "outbound_sam_all = df_inter_state.groupby([\"previous_state\", \"education\"])[\"person_weight\"].sum().reset_index(name=\"count\")\n",
    "outbound_sam_all[\"sex\"] = \"All\"\n",
    "outbound_sam_all[\"age_group\"] = \"All\"\n",
    "outbound_sam_all[\"marital_status\"] = \"All\"\n",
    "\n",
    "outbound_sem_all = df_inter_state.groupby([\"previous_state\", \"age_group\"])[\"person_weight\"].sum().reset_index(name=\"count\")\n",
    "outbound_sem_all[\"sex\"] = \"All\"\n",
    "outbound_sem_all[\"education\"] = \"All\"\n",
    "outbound_sem_all[\"marital_status\"] = \"All\"\n",
    "\n",
    "outbound_aem_all = df_inter_state.groupby([\"previous_state\", \"sex\"])[\"person_weight\"].sum().reset_index(name=\"count\")\n",
    "outbound_aem_all[\"age_group\"] = \"All\"\n",
    "outbound_aem_all[\"education\"] = \"All\"\n",
    "outbound_aem_all[\"marital_status\"] = \"All\"\n",
    "\n",
    "outbound_saem_all = df_inter_state.groupby([\"previous_state\"])[\"person_weight\"].sum().reset_index(name=\"count\")\n",
    "outbound_saem_all[\"sex\"] = \"All\"\n",
    "outbound_saem_all[\"age_group\"] = \"All\"\n",
    "outbound_saem_all[\"education\"] = \"All\"\n",
    "outbound_saem_all[\"marital_status\"] = \"All\"\n",
    "\n",
    "outbound = pd.concat([outbound_saem_all, outbound_aem_all, outbound_sem_all, outbound_sam_all, outbound_sae_all, outbound_em_all, outbound_ae_all, outbound_sm_all, outbound_se_all,\n",
    "                      outbound_sa_all, outbound_mar_all, outbound_ed_all, outbound_age_all, outbound_sex_all, outbound])"
   ]
  },
  {
   "cell_type": "code",
   "execution_count": 12,
   "id": "27bd388b",
   "metadata": {},
   "outputs": [
    {
     "data": {
      "text/html": [
       "<div>\n",
       "<style scoped>\n",
       "    .dataframe tbody tr th:only-of-type {\n",
       "        vertical-align: middle;\n",
       "    }\n",
       "\n",
       "    .dataframe tbody tr th {\n",
       "        vertical-align: top;\n",
       "    }\n",
       "\n",
       "    .dataframe thead th {\n",
       "        text-align: right;\n",
       "    }\n",
       "</style>\n",
       "<table border=\"1\" class=\"dataframe\">\n",
       "  <thead>\n",
       "    <tr style=\"text-align: right;\">\n",
       "      <th></th>\n",
       "      <th>previous_state</th>\n",
       "      <th>count</th>\n",
       "      <th>sex</th>\n",
       "      <th>age_group</th>\n",
       "      <th>education</th>\n",
       "      <th>marital_status</th>\n",
       "      <th>previous_state_code</th>\n",
       "      <th>previous_fips</th>\n",
       "    </tr>\n",
       "  </thead>\n",
       "  <tbody>\n",
       "    <tr>\n",
       "      <th>0</th>\n",
       "      <td>Alabama</td>\n",
       "      <td>101870</td>\n",
       "      <td>All</td>\n",
       "      <td>All</td>\n",
       "      <td>All</td>\n",
       "      <td>All</td>\n",
       "      <td>AL</td>\n",
       "      <td>1</td>\n",
       "    </tr>\n",
       "    <tr>\n",
       "      <th>1</th>\n",
       "      <td>Alaska</td>\n",
       "      <td>36206</td>\n",
       "      <td>All</td>\n",
       "      <td>All</td>\n",
       "      <td>All</td>\n",
       "      <td>All</td>\n",
       "      <td>AK</td>\n",
       "      <td>2</td>\n",
       "    </tr>\n",
       "    <tr>\n",
       "      <th>2</th>\n",
       "      <td>Arizona</td>\n",
       "      <td>193757</td>\n",
       "      <td>All</td>\n",
       "      <td>All</td>\n",
       "      <td>All</td>\n",
       "      <td>All</td>\n",
       "      <td>AZ</td>\n",
       "      <td>4</td>\n",
       "    </tr>\n",
       "    <tr>\n",
       "      <th>3</th>\n",
       "      <td>Arkansas</td>\n",
       "      <td>65211</td>\n",
       "      <td>All</td>\n",
       "      <td>All</td>\n",
       "      <td>All</td>\n",
       "      <td>All</td>\n",
       "      <td>AR</td>\n",
       "      <td>5</td>\n",
       "    </tr>\n",
       "    <tr>\n",
       "      <th>4</th>\n",
       "      <td>California</td>\n",
       "      <td>682598</td>\n",
       "      <td>All</td>\n",
       "      <td>All</td>\n",
       "      <td>All</td>\n",
       "      <td>All</td>\n",
       "      <td>CA</td>\n",
       "      <td>6</td>\n",
       "    </tr>\n",
       "    <tr>\n",
       "      <th>...</th>\n",
       "      <td>...</td>\n",
       "      <td>...</td>\n",
       "      <td>...</td>\n",
       "      <td>...</td>\n",
       "      <td>...</td>\n",
       "      <td>...</td>\n",
       "      <td>...</td>\n",
       "      <td>...</td>\n",
       "    </tr>\n",
       "    <tr>\n",
       "      <th>36915</th>\n",
       "      <td>Wyoming</td>\n",
       "      <td>0</td>\n",
       "      <td>Male</td>\n",
       "      <td>65+</td>\n",
       "      <td>Bachelor's Degree</td>\n",
       "      <td>Widowed</td>\n",
       "      <td>WY</td>\n",
       "      <td>56</td>\n",
       "    </tr>\n",
       "    <tr>\n",
       "      <th>36916</th>\n",
       "      <td>Wyoming</td>\n",
       "      <td>0</td>\n",
       "      <td>Male</td>\n",
       "      <td>65+</td>\n",
       "      <td>Graduate Degree</td>\n",
       "      <td>Never Married</td>\n",
       "      <td>WY</td>\n",
       "      <td>56</td>\n",
       "    </tr>\n",
       "    <tr>\n",
       "      <th>36917</th>\n",
       "      <td>Wyoming</td>\n",
       "      <td>78</td>\n",
       "      <td>Male</td>\n",
       "      <td>65+</td>\n",
       "      <td>Graduate Degree</td>\n",
       "      <td>Married</td>\n",
       "      <td>WY</td>\n",
       "      <td>56</td>\n",
       "    </tr>\n",
       "    <tr>\n",
       "      <th>36918</th>\n",
       "      <td>Wyoming</td>\n",
       "      <td>0</td>\n",
       "      <td>Male</td>\n",
       "      <td>65+</td>\n",
       "      <td>Graduate Degree</td>\n",
       "      <td>Divorced/Separated</td>\n",
       "      <td>WY</td>\n",
       "      <td>56</td>\n",
       "    </tr>\n",
       "    <tr>\n",
       "      <th>36919</th>\n",
       "      <td>Wyoming</td>\n",
       "      <td>0</td>\n",
       "      <td>Male</td>\n",
       "      <td>65+</td>\n",
       "      <td>Graduate Degree</td>\n",
       "      <td>Widowed</td>\n",
       "      <td>WY</td>\n",
       "      <td>56</td>\n",
       "    </tr>\n",
       "  </tbody>\n",
       "</table>\n",
       "<p>36920 rows × 8 columns</p>\n",
       "</div>"
      ],
      "text/plain": [
       "      previous_state   count   sex age_group          education  \\\n",
       "0            Alabama  101870   All       All                All   \n",
       "1             Alaska   36206   All       All                All   \n",
       "2            Arizona  193757   All       All                All   \n",
       "3           Arkansas   65211   All       All                All   \n",
       "4         California  682598   All       All                All   \n",
       "...              ...     ...   ...       ...                ...   \n",
       "36915        Wyoming       0  Male       65+  Bachelor's Degree   \n",
       "36916        Wyoming       0  Male       65+    Graduate Degree   \n",
       "36917        Wyoming      78  Male       65+    Graduate Degree   \n",
       "36918        Wyoming       0  Male       65+    Graduate Degree   \n",
       "36919        Wyoming       0  Male       65+    Graduate Degree   \n",
       "\n",
       "           marital_status previous_state_code  previous_fips  \n",
       "0                     All                  AL              1  \n",
       "1                     All                  AK              2  \n",
       "2                     All                  AZ              4  \n",
       "3                     All                  AR              5  \n",
       "4                     All                  CA              6  \n",
       "...                   ...                 ...            ...  \n",
       "36915             Widowed                  WY             56  \n",
       "36916       Never Married                  WY             56  \n",
       "36917             Married                  WY             56  \n",
       "36918  Divorced/Separated                  WY             56  \n",
       "36919             Widowed                  WY             56  \n",
       "\n",
       "[36920 rows x 8 columns]"
      ]
     },
     "execution_count": 12,
     "metadata": {},
     "output_type": "execute_result"
    }
   ],
   "source": [
    "# Merge in state abbreviations needed to create choropleth maps\n",
    "url =\"https://www2.census.gov/geo/docs/reference/state.txt\"\n",
    "states = pd.read_csv(url, sep='|')\n",
    "\n",
    "states[\"previous_state\"] = states[\"STATE_NAME\"] # Rename column to merge on\n",
    "states[\"previous_fips\"] = states[\"STATE\"] # Rename column for clarity\n",
    "states[\"previous_state_code\"] = states[\"STUSAB\"] # Rename column for clarity\n",
    "\n",
    "outbound_states = states[[\"previous_state\", \"previous_state_code\", \"previous_fips\"]] # Keep only the columns needed\n",
    "\n",
    "outbound = pd.merge(outbound,outbound_states,on=\"previous_state\",how=\"left\") # Execute the merge\n",
    "\n",
    "outbound = outbound.dropna() # Drop rows with NaN values, just in case there are any\n",
    "\n",
    "outbound"
   ]
  },
  {
   "cell_type": "code",
   "execution_count": 13,
   "id": "eb144be8",
   "metadata": {},
   "outputs": [],
   "source": [
    "# Save to CSV\n",
    "outbound.to_csv('outbound.csv', index=False)"
   ]
  },
  {
   "cell_type": "code",
   "execution_count": 14,
   "id": "3e7c6ebb",
   "metadata": {},
   "outputs": [
    {
     "data": {
      "application/vnd.plotly.v1+json": {
       "config": {
        "plotlyServerURL": "https://plot.ly"
       },
       "data": [
        {
         "coloraxis": "coloraxis",
         "geo": "geo",
         "hovertemplate": "previous_state_code=%{location}<br>count=%{z}<extra></extra>",
         "locationmode": "USA-states",
         "locations": [
          "AL",
          "AK",
          "AZ",
          "AR",
          "CA",
          "CO",
          "CT",
          "DE",
          "DC",
          "FL",
          "GA",
          "HI",
          "ID",
          "IL",
          "IN",
          "IA",
          "KS",
          "KY",
          "LA",
          "ME",
          "MD",
          "MA",
          "MI",
          "MN",
          "MS",
          "MO",
          "MT",
          "NE",
          "NV",
          "NH",
          "NJ",
          "NM",
          "NY",
          "NC",
          "ND",
          "OH",
          "OK",
          "OR",
          "PA",
          "PR",
          "RI",
          "SC",
          "SD",
          "TN",
          "TX",
          "UT",
          "VT",
          "VA",
          "WA",
          "WV",
          "WI",
          "WY"
         ],
         "name": "",
         "type": "choropleth",
         "z": [
          101870,
          36206,
          193757,
          65211,
          682598,
          209052,
          92843,
          29537,
          66034,
          503761,
          250109,
          56629,
          63227,
          295850,
          116568,
          75420,
          91904,
          97487,
          99858,
          28124,
          199510,
          184268,
          155396,
          108407,
          56530,
          145120,
          39889,
          50104,
          106678,
          50406,
          219718,
          66208,
          489541,
          233137,
          22401,
          189744,
          85781,
          130887,
          269665,
          44975,
          33233,
          135346,
          27018,
          181398,
          478954,
          97485,
          19287,
          258117,
          223935,
          42639,
          95878,
          24920
         ]
        }
       ],
       "layout": {
        "coloraxis": {
         "colorbar": {
          "title": {
           "text": "count"
          }
         },
         "colorscale": [
          [
           0,
           "rgb(255,245,240)"
          ],
          [
           0.125,
           "rgb(254,224,210)"
          ],
          [
           0.25,
           "rgb(252,187,161)"
          ],
          [
           0.375,
           "rgb(252,146,114)"
          ],
          [
           0.5,
           "rgb(251,106,74)"
          ],
          [
           0.625,
           "rgb(239,59,44)"
          ],
          [
           0.75,
           "rgb(203,24,29)"
          ],
          [
           0.875,
           "rgb(165,15,21)"
          ],
          [
           1,
           "rgb(103,0,13)"
          ]
         ]
        },
        "geo": {
         "center": {},
         "domain": {
          "x": [
           0,
           1
          ],
          "y": [
           0,
           1
          ]
         },
         "scope": "usa"
        },
        "legend": {
         "tracegroupgap": 0
        },
        "margin": {
         "t": 60
        },
        "template": {
         "data": {
          "candlestick": [
           {
            "decreasing": {
             "line": {
              "color": "#000033"
             }
            },
            "increasing": {
             "line": {
              "color": "#000032"
             }
            },
            "type": "candlestick"
           }
          ],
          "contour": [
           {
            "colorscale": [
             [
              0,
              "#000011"
             ],
             [
              0.1111111111111111,
              "#000012"
             ],
             [
              0.2222222222222222,
              "#000013"
             ],
             [
              0.3333333333333333,
              "#000014"
             ],
             [
              0.4444444444444444,
              "#000015"
             ],
             [
              0.5555555555555556,
              "#000016"
             ],
             [
              0.6666666666666666,
              "#000017"
             ],
             [
              0.7777777777777778,
              "#000018"
             ],
             [
              0.8888888888888888,
              "#000019"
             ],
             [
              1,
              "#000020"
             ]
            ],
            "type": "contour"
           }
          ],
          "contourcarpet": [
           {
            "colorscale": [
             [
              0,
              "#000011"
             ],
             [
              0.1111111111111111,
              "#000012"
             ],
             [
              0.2222222222222222,
              "#000013"
             ],
             [
              0.3333333333333333,
              "#000014"
             ],
             [
              0.4444444444444444,
              "#000015"
             ],
             [
              0.5555555555555556,
              "#000016"
             ],
             [
              0.6666666666666666,
              "#000017"
             ],
             [
              0.7777777777777778,
              "#000018"
             ],
             [
              0.8888888888888888,
              "#000019"
             ],
             [
              1,
              "#000020"
             ]
            ],
            "type": "contourcarpet"
           }
          ],
          "heatmap": [
           {
            "colorscale": [
             [
              0,
              "#000011"
             ],
             [
              0.1111111111111111,
              "#000012"
             ],
             [
              0.2222222222222222,
              "#000013"
             ],
             [
              0.3333333333333333,
              "#000014"
             ],
             [
              0.4444444444444444,
              "#000015"
             ],
             [
              0.5555555555555556,
              "#000016"
             ],
             [
              0.6666666666666666,
              "#000017"
             ],
             [
              0.7777777777777778,
              "#000018"
             ],
             [
              0.8888888888888888,
              "#000019"
             ],
             [
              1,
              "#000020"
             ]
            ],
            "type": "heatmap"
           }
          ],
          "histogram2d": [
           {
            "colorscale": [
             [
              0,
              "#000011"
             ],
             [
              0.1111111111111111,
              "#000012"
             ],
             [
              0.2222222222222222,
              "#000013"
             ],
             [
              0.3333333333333333,
              "#000014"
             ],
             [
              0.4444444444444444,
              "#000015"
             ],
             [
              0.5555555555555556,
              "#000016"
             ],
             [
              0.6666666666666666,
              "#000017"
             ],
             [
              0.7777777777777778,
              "#000018"
             ],
             [
              0.8888888888888888,
              "#000019"
             ],
             [
              1,
              "#000020"
             ]
            ],
            "type": "histogram2d"
           }
          ],
          "icicle": [
           {
            "textfont": {
             "color": "white"
            },
            "type": "icicle"
           }
          ],
          "sankey": [
           {
            "textfont": {
             "color": "#000036"
            },
            "type": "sankey"
           }
          ],
          "scatter": [
           {
            "marker": {
             "line": {
              "width": 0
             }
            },
            "type": "scatter"
           }
          ],
          "table": [
           {
            "cells": {
             "fill": {
              "color": "#000038"
             },
             "font": {
              "color": "#000037"
             },
             "line": {
              "color": "#000039"
             }
            },
            "header": {
             "fill": {
              "color": "#000040"
             },
             "font": {
              "color": "#000036"
             },
             "line": {
              "color": "#000039"
             }
            },
            "type": "table"
           }
          ],
          "waterfall": [
           {
            "connector": {
             "line": {
              "color": "#000036",
              "width": 2
             }
            },
            "decreasing": {
             "marker": {
              "color": "#000033"
             }
            },
            "increasing": {
             "marker": {
              "color": "#000032"
             }
            },
            "totals": {
             "marker": {
              "color": "#000034"
             }
            },
            "type": "waterfall"
           }
          ]
         },
         "layout": {
          "coloraxis": {
           "colorscale": [
            [
             0,
             "#000011"
            ],
            [
             0.1111111111111111,
             "#000012"
            ],
            [
             0.2222222222222222,
             "#000013"
            ],
            [
             0.3333333333333333,
             "#000014"
            ],
            [
             0.4444444444444444,
             "#000015"
            ],
            [
             0.5555555555555556,
             "#000016"
            ],
            [
             0.6666666666666666,
             "#000017"
            ],
            [
             0.7777777777777778,
             "#000018"
            ],
            [
             0.8888888888888888,
             "#000019"
            ],
            [
             1,
             "#000020"
            ]
           ]
          },
          "colorscale": {
           "diverging": [
            [
             0,
             "#000021"
            ],
            [
             0.1,
             "#000022"
            ],
            [
             0.2,
             "#000023"
            ],
            [
             0.3,
             "#000024"
            ],
            [
             0.4,
             "#000025"
            ],
            [
             0.5,
             "#000026"
            ],
            [
             0.6,
             "#000027"
            ],
            [
             0.7,
             "#000028"
            ],
            [
             0.8,
             "#000029"
            ],
            [
             0.9,
             "#000030"
            ],
            [
             1,
             "#000031"
            ]
           ],
           "sequential": [
            [
             0,
             "#000011"
            ],
            [
             0.1111111111111111,
             "#000012"
            ],
            [
             0.2222222222222222,
             "#000013"
            ],
            [
             0.3333333333333333,
             "#000014"
            ],
            [
             0.4444444444444444,
             "#000015"
            ],
            [
             0.5555555555555556,
             "#000016"
            ],
            [
             0.6666666666666666,
             "#000017"
            ],
            [
             0.7777777777777778,
             "#000018"
            ],
            [
             0.8888888888888888,
             "#000019"
            ],
            [
             1,
             "#000020"
            ]
           ],
           "sequentialminus": [
            [
             0,
             "#000011"
            ],
            [
             0.1111111111111111,
             "#000012"
            ],
            [
             0.2222222222222222,
             "#000013"
            ],
            [
             0.3333333333333333,
             "#000014"
            ],
            [
             0.4444444444444444,
             "#000015"
            ],
            [
             0.5555555555555556,
             "#000016"
            ],
            [
             0.6666666666666666,
             "#000017"
            ],
            [
             0.7777777777777778,
             "#000018"
            ],
            [
             0.8888888888888888,
             "#000019"
            ],
            [
             1,
             "#000020"
            ]
           ]
          },
          "colorway": [
           "#000001",
           "#000002",
           "#000003",
           "#000004",
           "#000005",
           "#000006",
           "#000007",
           "#000008",
           "#000009",
           "#000010"
          ]
         }
        }
       }
      }
     },
     "metadata": {},
     "output_type": "display_data"
    }
   ],
   "source": [
    "# Test the choropleth map code with a specific set of filters\n",
    "filtered_df2 = outbound[(outbound[\"sex\"] == \"All\") & (outbound[\"age_group\"] == \"All\") & (outbound[\"education\"] == \"All\") & (outbound[\"marital_status\"] == \"All\")]\n",
    "\n",
    "choropleth = px.choropleth(filtered_df2, locations=\"previous_state_code\", color=\"count\", locationmode=\"USA-states\",color_continuous_scale=\"reds\",\n",
    "                               scope=\"usa\",\n",
    "                              )\n",
    "\n",
    "choropleth.show()"
   ]
  },
  {
   "cell_type": "code",
   "execution_count": 15,
   "id": "127be261",
   "metadata": {},
   "outputs": [],
   "source": [
    "# Create a dataset with migration flows from origin to destination states to be displayed in tabular form\n",
    "flows = df_inter_state[[\"current_state\", \"previous_state\", \"sex\", \"age_group\", \"education\", \"marital_status\", \"person_weight\"]]\n",
    "flows[\"flow\"] = flows[\"previous_state\"] + \" ➜ \" + flows[\"current_state\"]\n",
    "flows = flows[[\"flow\", \"sex\", \"age_group\", \"education\", \"marital_status\", \"person_weight\"]]\n",
    "\n",
    "flows_summed = flows.groupby([\"flow\", \"sex\", \"age_group\", \"education\", \"marital_status\"])[\"person_weight\"].sum().reset_index(name=\"count\")\n"
   ]
  },
  {
   "cell_type": "code",
   "execution_count": 16,
   "id": "c3aed03b",
   "metadata": {},
   "outputs": [],
   "source": [
    "# Create \"all\" counts for each variable \n",
    "# Make sure to include all combinations of the variables! (there is probably a more efficient way to do this, haha)\n",
    "\n",
    "flows_sex_all = flows.groupby([\"flow\",\"age_group\", \"education\", \"marital_status\"])[\"person_weight\"].sum().reset_index(name=\"count\")\n",
    "flows_sex_all[\"sex\"] = \"All\"\n",
    "\n",
    "flows_age_all = flows.groupby([\"flow\",\"sex\", \"education\", \"marital_status\"])[\"person_weight\"].sum().reset_index(name=\"count\")\n",
    "flows_age_all[\"age_group\"] = \"All\"\n",
    "\n",
    "flows_ed_all = flows.groupby([\"flow\",\"sex\", \"age_group\", \"marital_status\"])[\"person_weight\"].sum().reset_index(name=\"count\")\n",
    "flows_ed_all[\"education\"] = \"All\"\n",
    "\n",
    "flows_mar_all = flows.groupby([\"flow\",\"sex\", \"age_group\", \"education\"])[\"person_weight\"].sum().reset_index(name=\"count\")\n",
    "flows_mar_all[\"marital_status\"] = \"All\"\n",
    "\n",
    "flows_sa_all = flows.groupby([\"flow\", \"education\", \"marital_status\"])[\"person_weight\"].sum().reset_index(name=\"count\")\n",
    "flows_sa_all[\"sex\"] = \"All\"\n",
    "flows_sa_all[\"age_group\"] = \"All\"\n",
    "\n",
    "flows_se_all = flows.groupby([\"flow\", \"age_group\", \"marital_status\"])[\"person_weight\"].sum().reset_index(name=\"count\")\n",
    "flows_se_all[\"sex\"] = \"All\"\n",
    "flows_se_all[\"education\"] = \"All\"\n",
    "\n",
    "flows_sm_all = flows.groupby([\"flow\", \"age_group\", \"education\"])[\"person_weight\"].sum().reset_index(name=\"count\")\n",
    "flows_sm_all[\"sex\"] = \"All\"\n",
    "flows_sm_all[\"marital_status\"] = \"All\"\n",
    "\n",
    "flows_ae_all = flows.groupby([\"flow\", \"sex\", \"marital_status\"])[\"person_weight\"].sum().reset_index(name=\"count\")\n",
    "flows_ae_all[\"age_group\"] = \"All\"\n",
    "flows_ae_all[\"education\"] = \"All\"\n",
    "\n",
    "flows_am_all = flows.groupby([\"flow\", \"sex\", \"education\"])[\"person_weight\"].sum().reset_index(name=\"count\")\n",
    "flows_am_all[\"age_group\"] = \"All\"\n",
    "flows_am_all[\"marital_status\"] = \"All\"\n",
    "\n",
    "flows_em_all = flows.groupby([\"flow\", \"sex\", \"age_group\"])[\"person_weight\"].sum().reset_index(name=\"count\")\n",
    "flows_em_all[\"education\"] = \"All\"\n",
    "flows_em_all[\"marital_status\"] = \"All\"\n",
    "\n",
    "flows_sae_all = flows.groupby([\"flow\", \"marital_status\"])[\"person_weight\"].sum().reset_index(name=\"count\")\n",
    "flows_sae_all[\"sex\"] = \"All\"\n",
    "flows_sae_all[\"age_group\"] = \"All\"\n",
    "flows_sae_all[\"education\"] = \"All\"\n",
    "\n",
    "flows_sam_all = flows.groupby([\"flow\", \"education\"])[\"person_weight\"].sum().reset_index(name=\"count\")\n",
    "flows_sam_all[\"sex\"] = \"All\"\n",
    "flows_sam_all[\"age_group\"] = \"All\"\n",
    "flows_sam_all[\"marital_status\"] = \"All\"\n",
    "\n",
    "flows_sem_all = flows.groupby([\"flow\", \"age_group\"])[\"person_weight\"].sum().reset_index(name=\"count\")\n",
    "flows_sem_all[\"sex\"] = \"All\"\n",
    "flows_sem_all[\"education\"] = \"All\"\n",
    "flows_sem_all[\"marital_status\"] = \"All\"\n",
    "\n",
    "flows_aem_all = flows.groupby([\"flow\", \"sex\"])[\"person_weight\"].sum().reset_index(name=\"count\")\n",
    "flows_aem_all[\"age_group\"] = \"All\"\n",
    "flows_aem_all[\"education\"] = \"All\"\n",
    "flows_aem_all[\"marital_status\"] = \"All\"\n",
    "\n",
    "flows_saem_all = flows.groupby([\"flow\"])[\"person_weight\"].sum().reset_index(name=\"count\")\n",
    "flows_saem_all[\"sex\"] = \"All\"\n",
    "flows_saem_all[\"age_group\"] = \"All\"\n",
    "flows_saem_all[\"education\"] = \"All\"\n",
    "flows_saem_all[\"marital_status\"] = \"All\"\n",
    "\n",
    "flows_complete = pd.concat([flows_saem_all, flows_aem_all, flows_sem_all, flows_sam_all, flows_sae_all, flows_em_all, flows_ae_all, flows_sm_all, flows_se_all,\n",
    "                      flows_sa_all, flows_mar_all, flows_ed_all, flows_age_all, flows_sex_all, flows_summed])"
   ]
  },
  {
   "cell_type": "code",
   "execution_count": 17,
   "id": "e246c1cb",
   "metadata": {},
   "outputs": [],
   "source": [
    "flows_complete = flows_complete.sort_values(by=\"count\", ascending=False) # sort largest to smallest\n",
    "flows_complete = flows_complete[flows_complete[\"count\"] > 0] # filter out rows with count of 0\n",
    "\n",
    "# Save to CSV\n",
    "flows_complete.to_csv('flows.csv', index=False)"
   ]
  },
  {
   "cell_type": "markdown",
   "id": "a3ead906",
   "metadata": {},
   "source": [
    "## **Step 2: Create the Streamlit Page Configuration File**\n",
    "### The code chunk below is commented out because it should be saved and run in a separate .py file. It is included below for convenience/informational purposes.\n",
    "### After running the .py file, you will see some warning/thread messages. You can disregard them. There will also be a message like, *\"Warning: to view this Streamlit app on a browser, run it with the following command: **streamlit run file_location/file_name.py [ARGUMENTS]**\"* Copy and paste that command into your Terminal application to run the dashboard app locally.\n",
    "### To deploy a dashboard app publicly, follow instructions [here](https://docs.streamlit.io/deploy/streamlit-community-cloud/deploy-your-app).\n",
    "### The dashboard created with this code can be found publicly [here](https://a3moversdash.streamlit.app/). If you see a message saying the \"app has gone to sleep,\" click \"Yes, get this app back up!\""
   ]
  },
  {
   "cell_type": "code",
   "execution_count": 18,
   "id": "94b52295",
   "metadata": {},
   "outputs": [],
   "source": [
    "# #######################\n",
    "# # DSTP Cohort 6 Capstone Team A23 Movers Dashboard - Streamlit\n",
    "# # 2023 ACS PUMS 1-Yr Data\n",
    "# # Kathleen created 5/30/25\n",
    "# # Last edited 6/18/25\n",
    "\n",
    "# # After running the following code in a .py file, you will see some warning/thread messages. You can disregard them. There will also be a message saying...\n",
    "# # \"Warning: to view this Streamlit app on a browser, run it with the following command: streamlit run file_location/file_name.py [ARGUMENTS]\"\n",
    "# # Copy and paste that command into your Terminal application to run the dashboard app locally.\n",
    "\n",
    "# # View the public dashboard created using the following code here: https://a3moversdash.streamlit.app/\n",
    "\n",
    "# #######################\n",
    "# # Import libraries\n",
    "# import streamlit as st # provides the web app framework\n",
    "# import pandas as pd # for data manipulation\n",
    "# import plotly.express as px # for choropleth maps\n",
    "# from itables.streamlit import interactive_table # for tables with sort, copy, and download functionality\n",
    "\n",
    "# #######################\n",
    "# # Page configuration\n",
    "# st.set_page_config(\n",
    "#     page_title=\"DSTP 2025 Capstone Team A3 Interstate Movers Dashboard\",\n",
    "#     layout=\"wide\",\n",
    "#     initial_sidebar_state=\"expanded\")\n",
    "\n",
    "# #######################\n",
    "# # Load data\n",
    "# inbound = pd.read_csv('inbound.csv')\n",
    "# outbound = pd.read_csv('outbound.csv')\n",
    "# flows = pd.read_csv('flows.csv')\n",
    "\n",
    "# #######################\n",
    "# # Sidebar\n",
    "# with st.sidebar:\n",
    "#     st.title(\"DSTP '25 Capstone Team A3 Interstate Movers Dashboard\")\n",
    "    \n",
    "#     # Create drop-down menus for filtering data\n",
    "#     # Choose just inbound or just outbound, if you only want one set of drop-downs to filter both datasets simultaneously\n",
    "#     sex_list = list(outbound.sex.unique())\n",
    "#     age_list = list(outbound.age_group.unique())\n",
    "#     education_list = list(outbound.education.unique())\n",
    "#     marital_list = list(outbound.marital_status.unique())\n",
    "    \n",
    "#     # Establish possible values for each drop-down\n",
    "#     selected_sex = st.selectbox('Select Sex', options=outbound[\"sex\"].unique())\n",
    "#     selected_age = st.selectbox('Select Age Group', options=outbound[\"age_group\"].unique())\n",
    "#     selected_education = st.selectbox('Select Highest Level of Education', options=outbound[\"education\"].unique())\n",
    "#     selected_marital = st.selectbox('Select Marital Status', options=outbound[\"marital_status\"].unique())\n",
    "\n",
    "#     # Define how to filter all datasets based on the drop-down selections\n",
    "#     df_in_selected = inbound[(inbound[\"sex\"] == selected_sex) & (inbound[\"age_group\"] == selected_age) & (inbound[\"education\"] == selected_education) & (inbound[\"marital_status\"] == selected_marital)]\n",
    "#     df_in_selected_sorted = df_in_selected.sort_values(by=\"count\", ascending=False)\n",
    "\n",
    "#     df_out_selected = outbound[(outbound[\"sex\"] == selected_sex) & (outbound[\"age_group\"] == selected_age) & (outbound[\"education\"] == selected_education) & (outbound[\"marital_status\"] == selected_marital)]\n",
    "#     df_out_selected_sorted = df_out_selected.sort_values(by=\"count\", ascending=False)\n",
    "\n",
    "#     flows_selected = flows[(flows[\"sex\"] == selected_sex) & (flows[\"age_group\"] == selected_age) & (flows[\"education\"] == selected_education) & (flows[\"marital_status\"] == selected_marital)]\n",
    "#     flows_selected_sorted = flows_selected.sort_values(by=\"count\", ascending=False)\n",
    "\n",
    "# #######################\n",
    "# # Plots\n",
    "\n",
    "# # Choropleth map configuration\n",
    "# def make_choropleth(input_df, input_id, input_column, input_color):\n",
    "#     choropleth = px.choropleth(input_df, locations=input_id, color=input_column, locationmode=\"USA-states\",\n",
    "#                                color_continuous_scale=input_color,\n",
    "#                                scope=\"usa\",\n",
    "#                                labels={'count':'Count'}\n",
    "#                               )\n",
    "#     return choropleth\n",
    "\n",
    "# #######################\n",
    "# # Dashboard Main Panel\n",
    "# # If you want rows to line up prcisely, create separate sets of columns\n",
    "\n",
    "# # First set of columns\n",
    "# col = st.columns((4, 2.5), gap='medium') # 2 columns with a 4:2.5 ratio\n",
    "\n",
    "# # First column: choropleth map showing counts of inbound movers by state\n",
    "# with col[0]:\n",
    "#     st.markdown('#### Count of Inbound Movers by Select Characteristics')\n",
    "    \n",
    "#     choropleth = make_choropleth(df_in_selected, 'current_state_code', 'count', \"reds\")\n",
    "#     st.plotly_chart(choropleth, use_container_width=True)\n",
    "\n",
    "# # Second column: Sorted bar chart showing inbound mover counts by state\n",
    "# with col[1]:\n",
    "#     st.markdown('#### Destination States Ranked')\n",
    "\n",
    "#     st.dataframe(df_in_selected_sorted,\n",
    "#                  column_order=(\"current_state\", \"count\"),\n",
    "#                  hide_index=True,\n",
    "#                  width=None,\n",
    "#                  column_config={\n",
    "#                     \"current_state\": st.column_config.TextColumn(\n",
    "#                         \"Inbound State\",\n",
    "#                     ),\n",
    "#                     \"count\": st.column_config.ProgressColumn(\n",
    "#                         \"Count\",\n",
    "#                         format=\"compact\"\n",
    "#                      )}\n",
    "#                  )\n",
    "\n",
    "# # Second set of columns        \n",
    "# col2 = st.columns((4, 2.5), gap='medium') # 2 columns with a 4:2.5 ratio\n",
    "\n",
    "# # First column: choropleth map showing counts of outbound movers by state\n",
    "# with col2[0]:\n",
    "#     st.markdown('#### Count of Outbound Movers by Select Characteristics')\n",
    "    \n",
    "#     choropleth = make_choropleth(df_out_selected, 'previous_state_code', 'count', \"reds\")\n",
    "#     st.plotly_chart(choropleth, use_container_width=True)\n",
    "\n",
    "# # Second column: Sorted bar chart showing outbound mover counts by state\n",
    "# with col2[1]:\n",
    "#     st.markdown('#### Origin States Ranked')\n",
    "\n",
    "#     st.dataframe(df_out_selected_sorted,\n",
    "#                  column_order=(\"previous_state\", \"count\"),\n",
    "#                  hide_index=True,\n",
    "#                  width=None,\n",
    "#                  column_config={\n",
    "#                     \"previous_state\": st.column_config.TextColumn(\n",
    "#                         \"Outbound State\",\n",
    "#                     ),\n",
    "#                     \"count\": st.column_config.ProgressColumn(\n",
    "#                         \"Count\",\n",
    "#                         format=\"compact\"\n",
    "#                      )}\n",
    "#                  )\n",
    "\n",
    "# # Third set of columns        \n",
    "# col3 = st.columns((4, 2.5), gap='medium') # 2 columns with a 4:2.5 ratio\n",
    "\n",
    "# # First column: Interactive table with top 10 migration flows\n",
    "# with col3[0]:\n",
    "#     st.markdown('#### Top 10 Interstate Migration Flows by Select Characteristics')\n",
    "\n",
    "#     interactive_table(flows_selected_sorted.head(10),\n",
    "#                   select=True,\n",
    "#                   showIndex=False,\n",
    "#                   labels={'flow':'Flow', 'count':'Count', 'sex':'Sex', 'age_group':'Age', 'education':'Education', 'marital_status':'Marital Status'},\n",
    "#                   buttons=['copyHtml5', 'csvHtml5', 'excelHtml5', 'colvis'])\n",
    "\n",
    "# # Second column: Footer with additional information\n",
    "# with col3[1]:\n",
    "#     with st.expander('About', expanded=True):\n",
    "#         st.write('''\n",
    "#             - :orange[**Data**]: [U.S. Census Bureau. American Community Survey Public Use Microdata Sample (PUMS) 1-Year, 2023. Accessed via the ACS API.](<https://www.census.gov/programs-surveys/acs/microdata/access.html>)\n",
    "#             - :orange[**Note**]: The inbound and outbound components above are independent of each other. Top ten direct migration flows are displayed in the table to the left.\n",
    "#             - :orange[**Disclaimer**]: This dashboard is for educational purposes only and should not be used for decision-making without further analysis.\n",
    "#             - :orange[**Questions? Suggestions?**] contact DSTP Cohort 6 Capstone Team A3 member, Kathleen Rogers (EWD)\n",
    "#             ''')"
   ]
  },
  {
   "cell_type": "markdown",
   "id": "91750b4b",
   "metadata": {},
   "source": [
    "## **End of Streamlit Dashboard Code**"
   ]
  }
 ],
 "metadata": {
  "kernelspec": {
   "display_name": "base",
   "language": "python",
   "name": "python3"
  },
  "language_info": {
   "codemirror_mode": {
    "name": "ipython",
    "version": 3
   },
   "file_extension": ".py",
   "mimetype": "text/x-python",
   "name": "python",
   "nbconvert_exporter": "python",
   "pygments_lexer": "ipython3",
   "version": "3.11.5"
  }
 },
 "nbformat": 4,
 "nbformat_minor": 5
}
