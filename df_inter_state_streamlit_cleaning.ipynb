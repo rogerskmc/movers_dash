{
 "cells": [
  {
   "cell_type": "code",
   "execution_count": 29,
   "id": "227f4782",
   "metadata": {},
   "outputs": [],
   "source": [
    "# 2023 ACS 1-YR PUMS Dashboard\n",
    "# Kathleen created 5/30/25\n",
    "# Last edited 6/4/25"
   ]
  },
  {
   "cell_type": "code",
   "execution_count": 30,
   "id": "158802e2",
   "metadata": {},
   "outputs": [],
   "source": [
    "# Import packages\n",
    "import pandas as pd\n",
    "import streamlit as st\n",
    "import plotly.express as px"
   ]
  },
  {
   "cell_type": "code",
   "execution_count": 31,
   "id": "7fc2ec28",
   "metadata": {},
   "outputs": [],
   "source": [
    "# Load data\n",
    "df_inter_state = pd.read_csv('df_inter_state.csv')\n",
    "df_inter_state[\"current_state_code\"] = df_inter_state[\"state_code\"]"
   ]
  },
  {
   "cell_type": "code",
   "execution_count": 32,
   "id": "133458b8",
   "metadata": {},
   "outputs": [],
   "source": [
    "# Remove unnecessary vars\n",
    "df_inter_state = df_inter_state[[\"current_state\", \"previous_state\", \"sex\", \"age_group\", \"education\", \"marital_status\", \"person_weight\"]]\n",
    "df_inter_state = df_inter_state.dropna()"
   ]
  },
  {
   "cell_type": "code",
   "execution_count": 33,
   "id": "1b886026",
   "metadata": {},
   "outputs": [
    {
     "name": "stdout",
     "output_type": "stream",
     "text": [
      "     current_state     sex age_group                 education marital_status  \\\n",
      "0          Alabama  Female      0-17  Elementary/Middle school  Never Married   \n",
      "1          Alabama  Female      0-17              No schooling  Never Married   \n",
      "2          Alabama  Female      0-17          Some high school  Never Married   \n",
      "3          Alabama  Female     18-24        Associate's degree  Never Married   \n",
      "4          Alabama  Female     18-24         Bachelor's degree        Married   \n",
      "...            ...     ...       ...                       ...            ...   \n",
      "9946       Wyoming    Male       65+           Graduate degree      Separated   \n",
      "9947       Wyoming    Male       65+      High school graduate        Married   \n",
      "9948       Wyoming    Male       65+      High school graduate        Widowed   \n",
      "9949       Wyoming    Male       65+              Some college       Divorced   \n",
      "9950       Wyoming    Male       65+              Some college        Married   \n",
      "\n",
      "      count  \n",
      "0      3202  \n",
      "1      5595  \n",
      "2      1123  \n",
      "3       560  \n",
      "4       169  \n",
      "...     ...  \n",
      "9946     77  \n",
      "9947    293  \n",
      "9948     50  \n",
      "9949     55  \n",
      "9950     79  \n",
      "\n",
      "[9951 rows x 6 columns]\n"
     ]
    }
   ],
   "source": [
    "# Get counts grouped by current_state, sex, education, etc\n",
    "inbound = df_inter_state.groupby([\"current_state\", \"sex\", \"age_group\", \"education\", \"marital_status\"])[\"person_weight\"].sum().reset_index(name=\"count\")\n",
    "print(inbound)"
   ]
  },
  {
   "cell_type": "code",
   "execution_count": 34,
   "id": "1b29eb5e",
   "metadata": {},
   "outputs": [],
   "source": [
    "# Get \"all\" counts for each variable\"\n",
    "# AM I MISSING ANY COMBINATIONS BELOW???\n",
    "inbound_sex_all = df_inter_state.groupby([\"current_state\",\"age_group\", \"education\", \"marital_status\"])[\"person_weight\"].sum().reset_index(name=\"count\")\n",
    "inbound_sex_all[\"sex\"] = \"All\"\n",
    "\n",
    "inbound_age_all = df_inter_state.groupby([\"current_state\",\"sex\", \"education\", \"marital_status\"])[\"person_weight\"].sum().reset_index(name=\"count\")\n",
    "inbound_age_all[\"age_group\"] = \"All\"\n",
    "\n",
    "inbound_ed_all = df_inter_state.groupby([\"current_state\",\"sex\", \"age_group\", \"marital_status\"])[\"person_weight\"].sum().reset_index(name=\"count\")\n",
    "inbound_ed_all[\"education\"] = \"All\"\n",
    "\n",
    "inbound_mar_all = df_inter_state.groupby([\"current_state\",\"sex\", \"age_group\", \"education\"])[\"person_weight\"].sum().reset_index(name=\"count\")\n",
    "inbound_mar_all[\"marital_status\"] = \"All\"\n",
    "\n",
    "inbound_sa_all = df_inter_state.groupby([\"current_state\", \"education\", \"marital_status\"])[\"person_weight\"].sum().reset_index(name=\"count\")\n",
    "inbound_sa_all[\"sex\"] = \"All\"\n",
    "inbound_sa_all[\"age_group\"] = \"All\"\n",
    "\n",
    "inbound_se_all = df_inter_state.groupby([\"current_state\", \"age_group\", \"marital_status\"])[\"person_weight\"].sum().reset_index(name=\"count\")\n",
    "inbound_se_all[\"sex\"] = \"All\"\n",
    "inbound_se_all[\"education\"] = \"All\"\n",
    "\n",
    "inbound_sm_all = df_inter_state.groupby([\"current_state\", \"age_group\", \"education\"])[\"person_weight\"].sum().reset_index(name=\"count\")\n",
    "inbound_sm_all[\"sex\"] = \"All\"\n",
    "inbound_sm_all[\"marital_status\"] = \"All\"\n",
    "\n",
    "inbound_ae_all = df_inter_state.groupby([\"current_state\", \"sex\", \"marital_status\"])[\"person_weight\"].sum().reset_index(name=\"count\")\n",
    "inbound_ae_all[\"age_group\"] = \"All\"\n",
    "inbound_ae_all[\"education\"] = \"All\"\n",
    "\n",
    "inbound_am_all = df_inter_state.groupby([\"current_state\", \"sex\", \"education\"])[\"person_weight\"].sum().reset_index(name=\"count\")\n",
    "inbound_am_all[\"age_group\"] = \"All\"\n",
    "inbound_am_all[\"marital_status\"] = \"All\"\n",
    "\n",
    "inbound_em_all = df_inter_state.groupby([\"current_state\", \"sex\", \"age_group\"])[\"person_weight\"].sum().reset_index(name=\"count\")\n",
    "inbound_em_all[\"education\"] = \"All\"\n",
    "inbound_em_all[\"marital_status\"] = \"All\"\n",
    "\n",
    "inbound_sae_all = df_inter_state.groupby([\"current_state\", \"marital_status\"])[\"person_weight\"].sum().reset_index(name=\"count\")\n",
    "inbound_sae_all[\"sex\"] = \"All\"\n",
    "inbound_sae_all[\"age_group\"] = \"All\"\n",
    "inbound_sae_all[\"education\"] = \"All\"\n",
    "\n",
    "inbound_sam_all = df_inter_state.groupby([\"current_state\", \"education\"])[\"person_weight\"].sum().reset_index(name=\"count\")\n",
    "inbound_sam_all[\"sex\"] = \"All\"\n",
    "inbound_sam_all[\"age_group\"] = \"All\"\n",
    "inbound_sam_all[\"marital_status\"] = \"All\"\n",
    "\n",
    "inbound_sem_all = df_inter_state.groupby([\"current_state\", \"age_group\"])[\"person_weight\"].sum().reset_index(name=\"count\")\n",
    "inbound_sem_all[\"sex\"] = \"All\"\n",
    "inbound_sem_all[\"education\"] = \"All\"\n",
    "inbound_sem_all[\"marital_status\"] = \"All\"\n",
    "\n",
    "inbound_aem_all = df_inter_state.groupby([\"current_state\", \"sex\"])[\"person_weight\"].sum().reset_index(name=\"count\")\n",
    "inbound_aem_all[\"age_group\"] = \"All\"\n",
    "inbound_aem_all[\"education\"] = \"All\"\n",
    "inbound_aem_all[\"marital_status\"] = \"All\"\n",
    "\n",
    "inbound_saem_all = df_inter_state.groupby([\"current_state\"])[\"person_weight\"].sum().reset_index(name=\"count\")\n",
    "inbound_saem_all[\"sex\"] = \"All\"\n",
    "inbound_saem_all[\"age_group\"] = \"All\"\n",
    "inbound_saem_all[\"education\"] = \"All\"\n",
    "inbound_saem_all[\"marital_status\"] = \"All\"\n",
    "\n",
    "inbound = pd.concat([inbound,inbound_sex_all, inbound_age_all, inbound_ed_all, inbound_mar_all, inbound_sa_all, inbound_se_all, inbound_sm_all, inbound_ae_all, inbound_em_all,\n",
    "                      inbound_sae_all, inbound_sam_all, inbound_sem_all, inbound_aem_all, inbound_saem_all])"
   ]
  },
  {
   "cell_type": "code",
   "execution_count": 35,
   "id": "990329e6",
   "metadata": {},
   "outputs": [
    {
     "name": "stdout",
     "output_type": "stream",
     "text": [
      "       current_state     sex age_group                 education  \\\n",
      "0            Alabama  Female      0-17  Elementary/Middle school   \n",
      "1            Alabama  Female      0-17              No schooling   \n",
      "2            Alabama  Female      0-17          Some high school   \n",
      "3            Alabama  Female     18-24        Associate's degree   \n",
      "4            Alabama  Female     18-24         Bachelor's degree   \n",
      "...              ...     ...       ...                       ...   \n",
      "34120       Virginia     All       All                       All   \n",
      "34121     Washington     All       All                       All   \n",
      "34122  West Virginia     All       All                       All   \n",
      "34123      Wisconsin     All       All                       All   \n",
      "34124        Wyoming     All       All                       All   \n",
      "\n",
      "      marital_status   count current_state_code  current_fips  \n",
      "0      Never Married    3202                 AL             1  \n",
      "1      Never Married    5595                 AL             1  \n",
      "2      Never Married    1123                 AL             1  \n",
      "3      Never Married     560                 AL             1  \n",
      "4            Married     169                 AL             1  \n",
      "...              ...     ...                ...           ...  \n",
      "34120            All  278297                 VA            51  \n",
      "34121            All  217471                 WA            53  \n",
      "34122            All   40429                 WV            54  \n",
      "34123            All  114332                 WI            55  \n",
      "34124            All   23667                 WY            56  \n",
      "\n",
      "[34125 rows x 8 columns]\n"
     ]
    }
   ],
   "source": [
    "# Merge in state abbreviations\n",
    "url =\"https://www2.census.gov/geo/docs/reference/state.txt\"\n",
    "states = pd.read_csv(url, sep='|')\n",
    "\n",
    "states[\"current_state\"] = states[\"STATE_NAME\"]\n",
    "states[\"current_fips\"] = states[\"STATE\"]\n",
    "states[\"current_state_code\"] = states[\"STUSAB\"]\n",
    "\n",
    "inbound_states = states[[\"current_state\", \"current_state_code\", \"current_fips\"]]\n",
    "\n",
    "inbound = pd.merge(inbound,inbound_states,on=\"current_state\",how=\"left\")\n",
    "\n",
    "inbound = inbound.dropna()\n",
    "print(inbound)\n"
   ]
  },
  {
   "cell_type": "code",
   "execution_count": 36,
   "id": "321f41c5",
   "metadata": {},
   "outputs": [],
   "source": [
    "# Save to CSV\n",
    "inbound.to_csv('inbound.csv', index=False)"
   ]
  },
  {
   "cell_type": "code",
   "execution_count": 37,
   "id": "d2d469f9",
   "metadata": {},
   "outputs": [
    {
     "data": {
      "application/vnd.plotly.v1+json": {
       "config": {
        "plotlyServerURL": "https://plot.ly"
       },
       "data": [
        {
         "coloraxis": "coloraxis",
         "geo": "geo",
         "hovertemplate": "current_state_code=%{location}<br>count=%{z}<extra></extra>",
         "locationmode": "USA-states",
         "locations": [
          "AL",
          "AK",
          "AZ",
          "AR",
          "CA",
          "CO",
          "CT",
          "DE",
          "DC",
          "FL",
          "GA",
          "HI",
          "ID",
          "IL",
          "IN",
          "IA",
          "KS",
          "KY",
          "LA",
          "ME",
          "MD",
          "MA",
          "MI",
          "MN",
          "MS",
          "MO",
          "MT",
          "NE",
          "NV",
          "NH",
          "NJ",
          "NM",
          "NY",
          "NC",
          "ND",
          "OH",
          "OK",
          "OR",
          "PA",
          "RI",
          "SC",
          "SD",
          "TN",
          "TX",
          "UT",
          "VT",
          "VA",
          "WA",
          "WV",
          "WI",
          "WY"
         ],
         "name": "",
         "type": "choropleth",
         "z": [
          3202,
          2474,
          7324,
          3247,
          11249,
          8278,
          2386,
          827,
          1208,
          22045,
          12443,
          1976,
          3704,
          6422,
          5469,
          1695,
          3017,
          3922,
          2017,
          323,
          5392,
          3714,
          2795,
          3621,
          1876,
          4510,
          704,
          3580,
          3776,
          404,
          3419,
          3197,
          5182,
          12819,
          283,
          4887,
          5156,
          2297,
          4813,
          96,
          8842,
          740,
          7544,
          27440,
          1705,
          422,
          11149,
          7150,
          841,
          2903,
          559
         ]
        }
       ],
       "layout": {
        "coloraxis": {
         "colorbar": {
          "title": {
           "text": "count"
          }
         },
         "colorscale": [
          [
           0,
           "rgb(255,245,240)"
          ],
          [
           0.125,
           "rgb(254,224,210)"
          ],
          [
           0.25,
           "rgb(252,187,161)"
          ],
          [
           0.375,
           "rgb(252,146,114)"
          ],
          [
           0.5,
           "rgb(251,106,74)"
          ],
          [
           0.625,
           "rgb(239,59,44)"
          ],
          [
           0.75,
           "rgb(203,24,29)"
          ],
          [
           0.875,
           "rgb(165,15,21)"
          ],
          [
           1,
           "rgb(103,0,13)"
          ]
         ]
        },
        "geo": {
         "center": {},
         "domain": {
          "x": [
           0,
           1
          ],
          "y": [
           0,
           1
          ]
         },
         "scope": "usa"
        },
        "legend": {
         "tracegroupgap": 0
        },
        "margin": {
         "t": 60
        },
        "template": {
         "data": {
          "candlestick": [
           {
            "decreasing": {
             "line": {
              "color": "#000033"
             }
            },
            "increasing": {
             "line": {
              "color": "#000032"
             }
            },
            "type": "candlestick"
           }
          ],
          "contour": [
           {
            "colorscale": [
             [
              0,
              "#000011"
             ],
             [
              0.1111111111111111,
              "#000012"
             ],
             [
              0.2222222222222222,
              "#000013"
             ],
             [
              0.3333333333333333,
              "#000014"
             ],
             [
              0.4444444444444444,
              "#000015"
             ],
             [
              0.5555555555555556,
              "#000016"
             ],
             [
              0.6666666666666666,
              "#000017"
             ],
             [
              0.7777777777777778,
              "#000018"
             ],
             [
              0.8888888888888888,
              "#000019"
             ],
             [
              1,
              "#000020"
             ]
            ],
            "type": "contour"
           }
          ],
          "contourcarpet": [
           {
            "colorscale": [
             [
              0,
              "#000011"
             ],
             [
              0.1111111111111111,
              "#000012"
             ],
             [
              0.2222222222222222,
              "#000013"
             ],
             [
              0.3333333333333333,
              "#000014"
             ],
             [
              0.4444444444444444,
              "#000015"
             ],
             [
              0.5555555555555556,
              "#000016"
             ],
             [
              0.6666666666666666,
              "#000017"
             ],
             [
              0.7777777777777778,
              "#000018"
             ],
             [
              0.8888888888888888,
              "#000019"
             ],
             [
              1,
              "#000020"
             ]
            ],
            "type": "contourcarpet"
           }
          ],
          "heatmap": [
           {
            "colorscale": [
             [
              0,
              "#000011"
             ],
             [
              0.1111111111111111,
              "#000012"
             ],
             [
              0.2222222222222222,
              "#000013"
             ],
             [
              0.3333333333333333,
              "#000014"
             ],
             [
              0.4444444444444444,
              "#000015"
             ],
             [
              0.5555555555555556,
              "#000016"
             ],
             [
              0.6666666666666666,
              "#000017"
             ],
             [
              0.7777777777777778,
              "#000018"
             ],
             [
              0.8888888888888888,
              "#000019"
             ],
             [
              1,
              "#000020"
             ]
            ],
            "type": "heatmap"
           }
          ],
          "histogram2d": [
           {
            "colorscale": [
             [
              0,
              "#000011"
             ],
             [
              0.1111111111111111,
              "#000012"
             ],
             [
              0.2222222222222222,
              "#000013"
             ],
             [
              0.3333333333333333,
              "#000014"
             ],
             [
              0.4444444444444444,
              "#000015"
             ],
             [
              0.5555555555555556,
              "#000016"
             ],
             [
              0.6666666666666666,
              "#000017"
             ],
             [
              0.7777777777777778,
              "#000018"
             ],
             [
              0.8888888888888888,
              "#000019"
             ],
             [
              1,
              "#000020"
             ]
            ],
            "type": "histogram2d"
           }
          ],
          "icicle": [
           {
            "textfont": {
             "color": "white"
            },
            "type": "icicle"
           }
          ],
          "sankey": [
           {
            "textfont": {
             "color": "#000036"
            },
            "type": "sankey"
           }
          ],
          "scatter": [
           {
            "marker": {
             "line": {
              "width": 0
             }
            },
            "type": "scatter"
           }
          ],
          "table": [
           {
            "cells": {
             "fill": {
              "color": "#000038"
             },
             "font": {
              "color": "#000037"
             },
             "line": {
              "color": "#000039"
             }
            },
            "header": {
             "fill": {
              "color": "#000040"
             },
             "font": {
              "color": "#000036"
             },
             "line": {
              "color": "#000039"
             }
            },
            "type": "table"
           }
          ],
          "waterfall": [
           {
            "connector": {
             "line": {
              "color": "#000036",
              "width": 2
             }
            },
            "decreasing": {
             "marker": {
              "color": "#000033"
             }
            },
            "increasing": {
             "marker": {
              "color": "#000032"
             }
            },
            "totals": {
             "marker": {
              "color": "#000034"
             }
            },
            "type": "waterfall"
           }
          ]
         },
         "layout": {
          "coloraxis": {
           "colorscale": [
            [
             0,
             "#000011"
            ],
            [
             0.1111111111111111,
             "#000012"
            ],
            [
             0.2222222222222222,
             "#000013"
            ],
            [
             0.3333333333333333,
             "#000014"
            ],
            [
             0.4444444444444444,
             "#000015"
            ],
            [
             0.5555555555555556,
             "#000016"
            ],
            [
             0.6666666666666666,
             "#000017"
            ],
            [
             0.7777777777777778,
             "#000018"
            ],
            [
             0.8888888888888888,
             "#000019"
            ],
            [
             1,
             "#000020"
            ]
           ]
          },
          "colorscale": {
           "diverging": [
            [
             0,
             "#000021"
            ],
            [
             0.1,
             "#000022"
            ],
            [
             0.2,
             "#000023"
            ],
            [
             0.3,
             "#000024"
            ],
            [
             0.4,
             "#000025"
            ],
            [
             0.5,
             "#000026"
            ],
            [
             0.6,
             "#000027"
            ],
            [
             0.7,
             "#000028"
            ],
            [
             0.8,
             "#000029"
            ],
            [
             0.9,
             "#000030"
            ],
            [
             1,
             "#000031"
            ]
           ],
           "sequential": [
            [
             0,
             "#000011"
            ],
            [
             0.1111111111111111,
             "#000012"
            ],
            [
             0.2222222222222222,
             "#000013"
            ],
            [
             0.3333333333333333,
             "#000014"
            ],
            [
             0.4444444444444444,
             "#000015"
            ],
            [
             0.5555555555555556,
             "#000016"
            ],
            [
             0.6666666666666666,
             "#000017"
            ],
            [
             0.7777777777777778,
             "#000018"
            ],
            [
             0.8888888888888888,
             "#000019"
            ],
            [
             1,
             "#000020"
            ]
           ],
           "sequentialminus": [
            [
             0,
             "#000011"
            ],
            [
             0.1111111111111111,
             "#000012"
            ],
            [
             0.2222222222222222,
             "#000013"
            ],
            [
             0.3333333333333333,
             "#000014"
            ],
            [
             0.4444444444444444,
             "#000015"
            ],
            [
             0.5555555555555556,
             "#000016"
            ],
            [
             0.6666666666666666,
             "#000017"
            ],
            [
             0.7777777777777778,
             "#000018"
            ],
            [
             0.8888888888888888,
             "#000019"
            ],
            [
             1,
             "#000020"
            ]
           ]
          },
          "colorway": [
           "#000001",
           "#000002",
           "#000003",
           "#000004",
           "#000005",
           "#000006",
           "#000007",
           "#000008",
           "#000009",
           "#000010"
          ]
         }
        }
       }
      }
     },
     "metadata": {},
     "output_type": "display_data"
    }
   ],
   "source": [
    "# Test map\n",
    "filtered_df = inbound[(inbound[\"sex\"] == \"Female\") & (inbound[\"age_group\"] == \"0-17\") & (inbound[\"education\"] == \"Elementary/Middle school\") & (inbound[\"marital_status\"] == \"Never Married\")]\n",
    "\n",
    "choropleth = px.choropleth(filtered_df, locations=\"current_state_code\", color=\"count\", locationmode=\"USA-states\",color_continuous_scale=\"reds\",\n",
    "                               scope=\"usa\",\n",
    "                              )\n",
    "\n",
    "choropleth.show()"
   ]
  },
  {
   "cell_type": "code",
   "execution_count": 38,
   "id": "138a4e4c",
   "metadata": {},
   "outputs": [],
   "source": [
    "# Get counts grouped by current_state, sex, education, etc\n",
    "outbound = df_inter_state.groupby([\"previous_state\", \"sex\", \"age_group\", \"education\", \"marital_status\"])[\"person_weight\"].sum().reset_index(name=\"count\")"
   ]
  },
  {
   "cell_type": "code",
   "execution_count": 39,
   "id": "573f3620",
   "metadata": {},
   "outputs": [],
   "source": [
    "# Get \"all\" counts for each variable\n",
    "# AM I MISSING ANY COMBINATIONS BELOW???\n",
    "outbound_sex_all = df_inter_state.groupby([\"previous_state\",\"age_group\", \"education\", \"marital_status\"])[\"person_weight\"].sum().reset_index(name=\"count\")\n",
    "outbound_sex_all[\"sex\"] = \"All\"\n",
    "\n",
    "outbound_age_all = df_inter_state.groupby([\"previous_state\",\"sex\", \"education\", \"marital_status\"])[\"person_weight\"].sum().reset_index(name=\"count\")\n",
    "outbound_age_all[\"age_group\"] = \"All\"\n",
    "\n",
    "outbound_ed_all = df_inter_state.groupby([\"previous_state\",\"sex\", \"age_group\", \"marital_status\"])[\"person_weight\"].sum().reset_index(name=\"count\")\n",
    "outbound_ed_all[\"education\"] = \"All\"\n",
    "\n",
    "outbound_mar_all = df_inter_state.groupby([\"previous_state\",\"sex\", \"age_group\", \"education\"])[\"person_weight\"].sum().reset_index(name=\"count\")\n",
    "outbound_mar_all[\"marital_status\"] = \"All\"\n",
    "\n",
    "outbound_sa_all = df_inter_state.groupby([\"previous_state\", \"education\", \"marital_status\"])[\"person_weight\"].sum().reset_index(name=\"count\")\n",
    "outbound_sa_all[\"sex\"] = \"All\"\n",
    "outbound_sa_all[\"age_group\"] = \"All\"\n",
    "\n",
    "outbound_se_all = df_inter_state.groupby([\"previous_state\", \"age_group\", \"marital_status\"])[\"person_weight\"].sum().reset_index(name=\"count\")\n",
    "outbound_se_all[\"sex\"] = \"All\"\n",
    "outbound_se_all[\"education\"] = \"All\"\n",
    "\n",
    "outbound_sm_all = df_inter_state.groupby([\"previous_state\", \"age_group\", \"education\"])[\"person_weight\"].sum().reset_index(name=\"count\")\n",
    "outbound_sm_all[\"sex\"] = \"All\"\n",
    "outbound_sm_all[\"marital_status\"] = \"All\"\n",
    "\n",
    "outbound_ae_all = df_inter_state.groupby([\"previous_state\", \"sex\", \"marital_status\"])[\"person_weight\"].sum().reset_index(name=\"count\")\n",
    "outbound_ae_all[\"age_group\"] = \"All\"\n",
    "outbound_ae_all[\"education\"] = \"All\"\n",
    "\n",
    "outbound_am_all = df_inter_state.groupby([\"previous_state\", \"sex\", \"education\"])[\"person_weight\"].sum().reset_index(name=\"count\")\n",
    "outbound_am_all[\"age_group\"] = \"All\"\n",
    "outbound_am_all[\"marital_status\"] = \"All\"\n",
    "\n",
    "outbound_em_all = df_inter_state.groupby([\"previous_state\", \"sex\", \"age_group\"])[\"person_weight\"].sum().reset_index(name=\"count\")\n",
    "outbound_em_all[\"education\"] = \"All\"\n",
    "outbound_em_all[\"marital_status\"] = \"All\"\n",
    "\n",
    "outbound_sae_all = df_inter_state.groupby([\"previous_state\", \"marital_status\"])[\"person_weight\"].sum().reset_index(name=\"count\")\n",
    "outbound_sae_all[\"sex\"] = \"All\"\n",
    "outbound_sae_all[\"age_group\"] = \"All\"\n",
    "outbound_sae_all[\"education\"] = \"All\"\n",
    "\n",
    "outbound_sam_all = df_inter_state.groupby([\"previous_state\", \"education\"])[\"person_weight\"].sum().reset_index(name=\"count\")\n",
    "outbound_sam_all[\"sex\"] = \"All\"\n",
    "outbound_sam_all[\"age_group\"] = \"All\"\n",
    "outbound_sam_all[\"marital_status\"] = \"All\"\n",
    "\n",
    "outbound_sem_all = df_inter_state.groupby([\"previous_state\", \"age_group\"])[\"person_weight\"].sum().reset_index(name=\"count\")\n",
    "outbound_sem_all[\"sex\"] = \"All\"\n",
    "outbound_sem_all[\"education\"] = \"All\"\n",
    "outbound_sem_all[\"marital_status\"] = \"All\"\n",
    "\n",
    "outbound_aem_all = df_inter_state.groupby([\"previous_state\", \"sex\"])[\"person_weight\"].sum().reset_index(name=\"count\")\n",
    "outbound_aem_all[\"age_group\"] = \"All\"\n",
    "outbound_aem_all[\"education\"] = \"All\"\n",
    "outbound_aem_all[\"marital_status\"] = \"All\"\n",
    "\n",
    "outbound_saem_all = df_inter_state.groupby([\"previous_state\"])[\"person_weight\"].sum().reset_index(name=\"count\")\n",
    "outbound_saem_all[\"sex\"] = \"All\"\n",
    "outbound_saem_all[\"age_group\"] = \"All\"\n",
    "outbound_saem_all[\"education\"] = \"All\"\n",
    "outbound_saem_all[\"marital_status\"] = \"All\"\n",
    "\n",
    "outbound = pd.concat([outbound,outbound_sex_all, outbound_age_all, outbound_ed_all, outbound_mar_all, outbound_sa_all, outbound_se_all, outbound_sm_all, outbound_ae_all, outbound_em_all,\n",
    "                      outbound_sae_all, outbound_sam_all, outbound_sem_all, outbound_aem_all, outbound_saem_all])"
   ]
  },
  {
   "cell_type": "code",
   "execution_count": 40,
   "id": "27bd388b",
   "metadata": {},
   "outputs": [
    {
     "name": "stdout",
     "output_type": "stream",
     "text": [
      "      previous_state     sex age_group                 education  \\\n",
      "0            Alabama  Female      0-17  Elementary/Middle school   \n",
      "1            Alabama  Female      0-17      High school graduate   \n",
      "2            Alabama  Female      0-17              No schooling   \n",
      "3            Alabama  Female      0-17          Some high school   \n",
      "4            Alabama  Female      0-17          Some high school   \n",
      "...              ...     ...       ...                       ...   \n",
      "34650       Virginia     All       All                       All   \n",
      "34651     Washington     All       All                       All   \n",
      "34652  West Virginia     All       All                       All   \n",
      "34653      Wisconsin     All       All                       All   \n",
      "34654        Wyoming     All       All                       All   \n",
      "\n",
      "      marital_status   count previous_state_code  previous_fips  \n",
      "0      Never Married    2579                  AL              1  \n",
      "1      Never Married      49                  AL              1  \n",
      "2      Never Married    4300                  AL              1  \n",
      "3            Married       3                  AL              1  \n",
      "4      Never Married     155                  AL              1  \n",
      "...              ...     ...                 ...            ...  \n",
      "34650            All  258117                  VA             51  \n",
      "34651            All  223935                  WA             53  \n",
      "34652            All   42639                  WV             54  \n",
      "34653            All   95878                  WI             55  \n",
      "34654            All   24920                  WY             56  \n",
      "\n",
      "[34655 rows x 8 columns]\n"
     ]
    }
   ],
   "source": [
    "# Merge in state abbreviations\n",
    "url =\"https://www2.census.gov/geo/docs/reference/state.txt\"\n",
    "states = pd.read_csv(url, sep='|')\n",
    "\n",
    "states[\"previous_state\"] = states[\"STATE_NAME\"]\n",
    "states[\"previous_fips\"] = states[\"STATE\"]\n",
    "states[\"previous_state_code\"] = states[\"STUSAB\"]\n",
    "\n",
    "outbound_states = states[[\"previous_state\", \"previous_state_code\", \"previous_fips\"]]\n",
    "\n",
    "outbound = pd.merge(outbound,outbound_states,on=\"previous_state\",how=\"left\")\n",
    "\n",
    "outbound = outbound.dropna()\n",
    "print(outbound)"
   ]
  },
  {
   "cell_type": "code",
   "execution_count": 41,
   "id": "eb144be8",
   "metadata": {},
   "outputs": [],
   "source": [
    "# Save to CSV\n",
    "outbound.to_csv('outbound.csv', index=False)"
   ]
  },
  {
   "cell_type": "code",
   "execution_count": 42,
   "id": "3e7c6ebb",
   "metadata": {},
   "outputs": [
    {
     "data": {
      "application/vnd.plotly.v1+json": {
       "config": {
        "plotlyServerURL": "https://plot.ly"
       },
       "data": [
        {
         "coloraxis": "coloraxis",
         "geo": "geo",
         "hovertemplate": "previous_state_code=%{location}<br>count=%{z}<extra></extra>",
         "locationmode": "USA-states",
         "locations": [
          "AL",
          "AK",
          "AZ",
          "AR",
          "CA",
          "CO",
          "CT",
          "DE",
          "DC",
          "FL",
          "GA",
          "HI",
          "ID",
          "IL",
          "IN",
          "IA",
          "KS",
          "KY",
          "LA",
          "ME",
          "MD",
          "MA",
          "MI",
          "MN",
          "MS",
          "MO",
          "MT",
          "NE",
          "NV",
          "NH",
          "NJ",
          "NM",
          "NY",
          "NC",
          "ND",
          "OH",
          "OK",
          "OR",
          "PA",
          "PR",
          "RI",
          "SC",
          "SD",
          "TN",
          "TX",
          "UT",
          "VT",
          "VA",
          "WA",
          "WV",
          "WI",
          "WY"
         ],
         "name": "",
         "type": "choropleth",
         "z": [
          101870,
          36206,
          193757,
          65211,
          682598,
          209052,
          92843,
          29537,
          66034,
          503761,
          250109,
          56629,
          63227,
          295850,
          116568,
          75420,
          91904,
          97487,
          99858,
          28124,
          199510,
          184268,
          155396,
          108407,
          56530,
          145120,
          39889,
          50104,
          106678,
          50406,
          219718,
          66208,
          489541,
          233137,
          22401,
          189744,
          85781,
          130887,
          269665,
          44975,
          33233,
          135346,
          27018,
          181398,
          478954,
          97485,
          19287,
          258117,
          223935,
          42639,
          95878,
          24920
         ]
        }
       ],
       "layout": {
        "coloraxis": {
         "colorbar": {
          "title": {
           "text": "count"
          }
         },
         "colorscale": [
          [
           0,
           "rgb(255,245,240)"
          ],
          [
           0.125,
           "rgb(254,224,210)"
          ],
          [
           0.25,
           "rgb(252,187,161)"
          ],
          [
           0.375,
           "rgb(252,146,114)"
          ],
          [
           0.5,
           "rgb(251,106,74)"
          ],
          [
           0.625,
           "rgb(239,59,44)"
          ],
          [
           0.75,
           "rgb(203,24,29)"
          ],
          [
           0.875,
           "rgb(165,15,21)"
          ],
          [
           1,
           "rgb(103,0,13)"
          ]
         ]
        },
        "geo": {
         "center": {},
         "domain": {
          "x": [
           0,
           1
          ],
          "y": [
           0,
           1
          ]
         },
         "scope": "usa"
        },
        "legend": {
         "tracegroupgap": 0
        },
        "margin": {
         "t": 60
        },
        "template": {
         "data": {
          "candlestick": [
           {
            "decreasing": {
             "line": {
              "color": "#000033"
             }
            },
            "increasing": {
             "line": {
              "color": "#000032"
             }
            },
            "type": "candlestick"
           }
          ],
          "contour": [
           {
            "colorscale": [
             [
              0,
              "#000011"
             ],
             [
              0.1111111111111111,
              "#000012"
             ],
             [
              0.2222222222222222,
              "#000013"
             ],
             [
              0.3333333333333333,
              "#000014"
             ],
             [
              0.4444444444444444,
              "#000015"
             ],
             [
              0.5555555555555556,
              "#000016"
             ],
             [
              0.6666666666666666,
              "#000017"
             ],
             [
              0.7777777777777778,
              "#000018"
             ],
             [
              0.8888888888888888,
              "#000019"
             ],
             [
              1,
              "#000020"
             ]
            ],
            "type": "contour"
           }
          ],
          "contourcarpet": [
           {
            "colorscale": [
             [
              0,
              "#000011"
             ],
             [
              0.1111111111111111,
              "#000012"
             ],
             [
              0.2222222222222222,
              "#000013"
             ],
             [
              0.3333333333333333,
              "#000014"
             ],
             [
              0.4444444444444444,
              "#000015"
             ],
             [
              0.5555555555555556,
              "#000016"
             ],
             [
              0.6666666666666666,
              "#000017"
             ],
             [
              0.7777777777777778,
              "#000018"
             ],
             [
              0.8888888888888888,
              "#000019"
             ],
             [
              1,
              "#000020"
             ]
            ],
            "type": "contourcarpet"
           }
          ],
          "heatmap": [
           {
            "colorscale": [
             [
              0,
              "#000011"
             ],
             [
              0.1111111111111111,
              "#000012"
             ],
             [
              0.2222222222222222,
              "#000013"
             ],
             [
              0.3333333333333333,
              "#000014"
             ],
             [
              0.4444444444444444,
              "#000015"
             ],
             [
              0.5555555555555556,
              "#000016"
             ],
             [
              0.6666666666666666,
              "#000017"
             ],
             [
              0.7777777777777778,
              "#000018"
             ],
             [
              0.8888888888888888,
              "#000019"
             ],
             [
              1,
              "#000020"
             ]
            ],
            "type": "heatmap"
           }
          ],
          "histogram2d": [
           {
            "colorscale": [
             [
              0,
              "#000011"
             ],
             [
              0.1111111111111111,
              "#000012"
             ],
             [
              0.2222222222222222,
              "#000013"
             ],
             [
              0.3333333333333333,
              "#000014"
             ],
             [
              0.4444444444444444,
              "#000015"
             ],
             [
              0.5555555555555556,
              "#000016"
             ],
             [
              0.6666666666666666,
              "#000017"
             ],
             [
              0.7777777777777778,
              "#000018"
             ],
             [
              0.8888888888888888,
              "#000019"
             ],
             [
              1,
              "#000020"
             ]
            ],
            "type": "histogram2d"
           }
          ],
          "icicle": [
           {
            "textfont": {
             "color": "white"
            },
            "type": "icicle"
           }
          ],
          "sankey": [
           {
            "textfont": {
             "color": "#000036"
            },
            "type": "sankey"
           }
          ],
          "scatter": [
           {
            "marker": {
             "line": {
              "width": 0
             }
            },
            "type": "scatter"
           }
          ],
          "table": [
           {
            "cells": {
             "fill": {
              "color": "#000038"
             },
             "font": {
              "color": "#000037"
             },
             "line": {
              "color": "#000039"
             }
            },
            "header": {
             "fill": {
              "color": "#000040"
             },
             "font": {
              "color": "#000036"
             },
             "line": {
              "color": "#000039"
             }
            },
            "type": "table"
           }
          ],
          "waterfall": [
           {
            "connector": {
             "line": {
              "color": "#000036",
              "width": 2
             }
            },
            "decreasing": {
             "marker": {
              "color": "#000033"
             }
            },
            "increasing": {
             "marker": {
              "color": "#000032"
             }
            },
            "totals": {
             "marker": {
              "color": "#000034"
             }
            },
            "type": "waterfall"
           }
          ]
         },
         "layout": {
          "coloraxis": {
           "colorscale": [
            [
             0,
             "#000011"
            ],
            [
             0.1111111111111111,
             "#000012"
            ],
            [
             0.2222222222222222,
             "#000013"
            ],
            [
             0.3333333333333333,
             "#000014"
            ],
            [
             0.4444444444444444,
             "#000015"
            ],
            [
             0.5555555555555556,
             "#000016"
            ],
            [
             0.6666666666666666,
             "#000017"
            ],
            [
             0.7777777777777778,
             "#000018"
            ],
            [
             0.8888888888888888,
             "#000019"
            ],
            [
             1,
             "#000020"
            ]
           ]
          },
          "colorscale": {
           "diverging": [
            [
             0,
             "#000021"
            ],
            [
             0.1,
             "#000022"
            ],
            [
             0.2,
             "#000023"
            ],
            [
             0.3,
             "#000024"
            ],
            [
             0.4,
             "#000025"
            ],
            [
             0.5,
             "#000026"
            ],
            [
             0.6,
             "#000027"
            ],
            [
             0.7,
             "#000028"
            ],
            [
             0.8,
             "#000029"
            ],
            [
             0.9,
             "#000030"
            ],
            [
             1,
             "#000031"
            ]
           ],
           "sequential": [
            [
             0,
             "#000011"
            ],
            [
             0.1111111111111111,
             "#000012"
            ],
            [
             0.2222222222222222,
             "#000013"
            ],
            [
             0.3333333333333333,
             "#000014"
            ],
            [
             0.4444444444444444,
             "#000015"
            ],
            [
             0.5555555555555556,
             "#000016"
            ],
            [
             0.6666666666666666,
             "#000017"
            ],
            [
             0.7777777777777778,
             "#000018"
            ],
            [
             0.8888888888888888,
             "#000019"
            ],
            [
             1,
             "#000020"
            ]
           ],
           "sequentialminus": [
            [
             0,
             "#000011"
            ],
            [
             0.1111111111111111,
             "#000012"
            ],
            [
             0.2222222222222222,
             "#000013"
            ],
            [
             0.3333333333333333,
             "#000014"
            ],
            [
             0.4444444444444444,
             "#000015"
            ],
            [
             0.5555555555555556,
             "#000016"
            ],
            [
             0.6666666666666666,
             "#000017"
            ],
            [
             0.7777777777777778,
             "#000018"
            ],
            [
             0.8888888888888888,
             "#000019"
            ],
            [
             1,
             "#000020"
            ]
           ]
          },
          "colorway": [
           "#000001",
           "#000002",
           "#000003",
           "#000004",
           "#000005",
           "#000006",
           "#000007",
           "#000008",
           "#000009",
           "#000010"
          ]
         }
        }
       }
      }
     },
     "metadata": {},
     "output_type": "display_data"
    }
   ],
   "source": [
    "# Test map\n",
    "filtered_df2 = outbound[(outbound[\"sex\"] == \"All\") & (outbound[\"age_group\"] == \"All\") & (outbound[\"education\"] == \"All\") & (outbound[\"marital_status\"] == \"All\")]\n",
    "\n",
    "choropleth = px.choropleth(filtered_df2, locations=\"previous_state_code\", color=\"count\", locationmode=\"USA-states\",color_continuous_scale=\"reds\",\n",
    "                               scope=\"usa\",\n",
    "                              )\n",
    "\n",
    "choropleth.show()"
   ]
  }
 ],
 "metadata": {
  "kernelspec": {
   "display_name": "base",
   "language": "python",
   "name": "python3"
  },
  "language_info": {
   "codemirror_mode": {
    "name": "ipython",
    "version": 3
   },
   "file_extension": ".py",
   "mimetype": "text/x-python",
   "name": "python",
   "nbconvert_exporter": "python",
   "pygments_lexer": "ipython3",
   "version": "3.11.5"
  }
 },
 "nbformat": 4,
 "nbformat_minor": 5
}
